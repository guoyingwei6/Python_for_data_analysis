{
 "cells": [
  {
   "cell_type": "markdown",
   "id": "837a49b0",
   "metadata": {
    "toc": true
   },
   "source": [
    "<h1>Table of Contents<span class=\"tocSkip\"></span></h1>\n",
    "<div class=\"toc\"><ul class=\"toc-item\"><li><span><a href=\"#7.1-处理缺失数据\" data-toc-modified-id=\"7.1-处理缺失数据-1\">7.1 处理缺失数据</a></span></li><li><span><a href=\"#7.2-数据转换\" data-toc-modified-id=\"7.2-数据转换-2\">7.2 数据转换</a></span><ul class=\"toc-item\"><li><span><a href=\"#7.2.1-移除重复数据\" data-toc-modified-id=\"7.2.1-移除重复数据-2.1\">7.2.1 移除重复数据</a></span></li><li><span><a href=\"#7.2.2-利用函数或映射进行数据转换\" data-toc-modified-id=\"7.2.2-利用函数或映射进行数据转换-2.2\">7.2.2 利用函数或映射进行数据转换</a></span></li><li><span><a href=\"#7.2.3-替换值\" data-toc-modified-id=\"7.2.3-替换值-2.3\">7.2.3 替换值</a></span></li><li><span><a href=\"#7.2.4-重命名轴索引\" data-toc-modified-id=\"7.2.4-重命名轴索引-2.4\">7.2.4 重命名轴索引</a></span></li><li><span><a href=\"#7.2.5-离散化和面元划分\" data-toc-modified-id=\"7.2.5-离散化和面元划分-2.5\">7.2.5 离散化和面元划分</a></span></li><li><span><a href=\"#7.2.6-检测和过滤异常值\" data-toc-modified-id=\"7.2.6-检测和过滤异常值-2.6\">7.2.6 检测和过滤异常值</a></span></li><li><span><a href=\"#7.2.7-排列和随机采样\" data-toc-modified-id=\"7.2.7-排列和随机采样-2.7\">7.2.7 排列和随机采样</a></span></li><li><span><a href=\"#7.2.8-计算指标/哑变量\" data-toc-modified-id=\"7.2.8-计算指标/哑变量-2.8\">7.2.8 计算指标/哑变量</a></span></li></ul></li><li><span><a href=\"#7.3-字符串操作\" data-toc-modified-id=\"7.3-字符串操作-3\">7.3 字符串操作</a></span><ul class=\"toc-item\"><li><span><a href=\"#7.3.1-字符串对象方法\" data-toc-modified-id=\"7.3.1-字符串对象方法-3.1\">7.3.1 字符串对象方法</a></span></li><li><span><a href=\"#7.3.2-正则表达式\" data-toc-modified-id=\"7.3.2-正则表达式-3.2\">7.3.2 正则表达式</a></span></li><li><span><a href=\"#7.3.3-pandas的矢量化字符串函数\" data-toc-modified-id=\"7.3.3-pandas的矢量化字符串函数-3.3\">7.3.3 pandas的矢量化字符串函数</a></span></li></ul></li><li><span><a href=\"#7.4-总结\" data-toc-modified-id=\"7.4-总结-4\">7.4 总结</a></span></li></ul></div>"
   ]
  },
  {
   "cell_type": "markdown",
   "id": "8b3bc3fc",
   "metadata": {},
   "source": [
    "# 第 7 章 数据清洗和准备"
   ]
  },
  {
   "cell_type": "markdown",
   "id": "bdae695e",
   "metadata": {},
   "source": [
    "## 7.1 处理缺失数据"
   ]
  },
  {
   "cell_type": "markdown",
   "id": "392e9b04",
   "metadata": {},
   "source": [
    "## 7.2 数据转换"
   ]
  },
  {
   "cell_type": "markdown",
   "id": "376cc2bf",
   "metadata": {},
   "source": [
    "### 7.2.1 移除重复数据"
   ]
  },
  {
   "cell_type": "code",
   "execution_count": 2,
   "id": "8d900f53",
   "metadata": {
    "ExecuteTime": {
     "end_time": "2023-04-22T07:02:20.775109Z",
     "start_time": "2023-04-22T07:02:20.400342Z"
    }
   },
   "outputs": [],
   "source": [
    "import numpy as np\n",
    "import pandas as pd"
   ]
  },
  {
   "cell_type": "code",
   "execution_count": 3,
   "id": "6ab3f706",
   "metadata": {
    "ExecuteTime": {
     "end_time": "2023-04-22T07:02:22.250101Z",
     "start_time": "2023-04-22T07:02:22.230931Z"
    }
   },
   "outputs": [
    {
     "data": {
      "text/html": [
       "<div>\n",
       "<style scoped>\n",
       "    .dataframe tbody tr th:only-of-type {\n",
       "        vertical-align: middle;\n",
       "    }\n",
       "\n",
       "    .dataframe tbody tr th {\n",
       "        vertical-align: top;\n",
       "    }\n",
       "\n",
       "    .dataframe thead th {\n",
       "        text-align: right;\n",
       "    }\n",
       "</style>\n",
       "<table border=\"1\" class=\"dataframe\">\n",
       "  <thead>\n",
       "    <tr style=\"text-align: right;\">\n",
       "      <th></th>\n",
       "      <th>k1</th>\n",
       "      <th>k2</th>\n",
       "    </tr>\n",
       "  </thead>\n",
       "  <tbody>\n",
       "    <tr>\n",
       "      <th>0</th>\n",
       "      <td>one</td>\n",
       "      <td>1</td>\n",
       "    </tr>\n",
       "    <tr>\n",
       "      <th>1</th>\n",
       "      <td>two</td>\n",
       "      <td>1</td>\n",
       "    </tr>\n",
       "    <tr>\n",
       "      <th>2</th>\n",
       "      <td>one</td>\n",
       "      <td>2</td>\n",
       "    </tr>\n",
       "    <tr>\n",
       "      <th>3</th>\n",
       "      <td>two</td>\n",
       "      <td>3</td>\n",
       "    </tr>\n",
       "    <tr>\n",
       "      <th>4</th>\n",
       "      <td>one</td>\n",
       "      <td>3</td>\n",
       "    </tr>\n",
       "    <tr>\n",
       "      <th>5</th>\n",
       "      <td>two</td>\n",
       "      <td>4</td>\n",
       "    </tr>\n",
       "    <tr>\n",
       "      <th>6</th>\n",
       "      <td>two</td>\n",
       "      <td>4</td>\n",
       "    </tr>\n",
       "  </tbody>\n",
       "</table>\n",
       "</div>"
      ],
      "text/plain": [
       "    k1  k2\n",
       "0  one   1\n",
       "1  two   1\n",
       "2  one   2\n",
       "3  two   3\n",
       "4  one   3\n",
       "5  two   4\n",
       "6  two   4"
      ]
     },
     "execution_count": 3,
     "metadata": {},
     "output_type": "execute_result"
    }
   ],
   "source": [
    "data = pd.DataFrame({'k1': ['one', 'two'] * 3 + ['two'],\n",
    "   ....:                      'k2': [1, 1, 2, 3, 3, 4, 4]})\n",
    "data"
   ]
  },
  {
   "cell_type": "markdown",
   "id": "be5f5d99",
   "metadata": {},
   "source": [
    "DataFrame的duplicated方法返回一个布尔型Series，表示各行是否是重复行（前面出现过的行）："
   ]
  },
  {
   "cell_type": "code",
   "execution_count": 4,
   "id": "6dab9185",
   "metadata": {
    "ExecuteTime": {
     "end_time": "2023-04-22T07:03:37.069628Z",
     "start_time": "2023-04-22T07:03:37.052371Z"
    }
   },
   "outputs": [
    {
     "data": {
      "text/plain": [
       "0    False\n",
       "1    False\n",
       "2    False\n",
       "3    False\n",
       "4    False\n",
       "5    False\n",
       "6     True\n",
       "dtype: bool"
      ]
     },
     "execution_count": 4,
     "metadata": {},
     "output_type": "execute_result"
    }
   ],
   "source": [
    "data.duplicated()"
   ]
  },
  {
   "cell_type": "markdown",
   "id": "3eee76ba",
   "metadata": {},
   "source": [
    "还有一个与此相关的drop_duplicates方法，它会返回一个DataFrame，重复的数组会标为False："
   ]
  },
  {
   "cell_type": "code",
   "execution_count": 5,
   "id": "c301dbca",
   "metadata": {
    "ExecuteTime": {
     "end_time": "2023-04-22T07:03:57.284446Z",
     "start_time": "2023-04-22T07:03:57.268901Z"
    }
   },
   "outputs": [
    {
     "data": {
      "text/html": [
       "<div>\n",
       "<style scoped>\n",
       "    .dataframe tbody tr th:only-of-type {\n",
       "        vertical-align: middle;\n",
       "    }\n",
       "\n",
       "    .dataframe tbody tr th {\n",
       "        vertical-align: top;\n",
       "    }\n",
       "\n",
       "    .dataframe thead th {\n",
       "        text-align: right;\n",
       "    }\n",
       "</style>\n",
       "<table border=\"1\" class=\"dataframe\">\n",
       "  <thead>\n",
       "    <tr style=\"text-align: right;\">\n",
       "      <th></th>\n",
       "      <th>k1</th>\n",
       "      <th>k2</th>\n",
       "    </tr>\n",
       "  </thead>\n",
       "  <tbody>\n",
       "    <tr>\n",
       "      <th>0</th>\n",
       "      <td>one</td>\n",
       "      <td>1</td>\n",
       "    </tr>\n",
       "    <tr>\n",
       "      <th>1</th>\n",
       "      <td>two</td>\n",
       "      <td>1</td>\n",
       "    </tr>\n",
       "    <tr>\n",
       "      <th>2</th>\n",
       "      <td>one</td>\n",
       "      <td>2</td>\n",
       "    </tr>\n",
       "    <tr>\n",
       "      <th>3</th>\n",
       "      <td>two</td>\n",
       "      <td>3</td>\n",
       "    </tr>\n",
       "    <tr>\n",
       "      <th>4</th>\n",
       "      <td>one</td>\n",
       "      <td>3</td>\n",
       "    </tr>\n",
       "    <tr>\n",
       "      <th>5</th>\n",
       "      <td>two</td>\n",
       "      <td>4</td>\n",
       "    </tr>\n",
       "  </tbody>\n",
       "</table>\n",
       "</div>"
      ],
      "text/plain": [
       "    k1  k2\n",
       "0  one   1\n",
       "1  two   1\n",
       "2  one   2\n",
       "3  two   3\n",
       "4  one   3\n",
       "5  two   4"
      ]
     },
     "execution_count": 5,
     "metadata": {},
     "output_type": "execute_result"
    }
   ],
   "source": [
    "data.drop_duplicates()"
   ]
  },
  {
   "cell_type": "markdown",
   "id": "17688ac6",
   "metadata": {},
   "source": [
    "这两个方法默认会判断全部列，你也可以指定部分列进行重复项判断。假设我们还有一列值，且只希望根据k1列过滤重复项："
   ]
  },
  {
   "cell_type": "code",
   "execution_count": 6,
   "id": "db9687bd",
   "metadata": {
    "ExecuteTime": {
     "end_time": "2023-04-22T07:05:13.857208Z",
     "start_time": "2023-04-22T07:05:13.837222Z"
    }
   },
   "outputs": [],
   "source": [
    "data['v1'] = range(7)"
   ]
  },
  {
   "cell_type": "code",
   "execution_count": 7,
   "id": "03318545",
   "metadata": {
    "ExecuteTime": {
     "end_time": "2023-04-22T07:05:16.740389Z",
     "start_time": "2023-04-22T07:05:16.727858Z"
    }
   },
   "outputs": [
    {
     "data": {
      "text/html": [
       "<div>\n",
       "<style scoped>\n",
       "    .dataframe tbody tr th:only-of-type {\n",
       "        vertical-align: middle;\n",
       "    }\n",
       "\n",
       "    .dataframe tbody tr th {\n",
       "        vertical-align: top;\n",
       "    }\n",
       "\n",
       "    .dataframe thead th {\n",
       "        text-align: right;\n",
       "    }\n",
       "</style>\n",
       "<table border=\"1\" class=\"dataframe\">\n",
       "  <thead>\n",
       "    <tr style=\"text-align: right;\">\n",
       "      <th></th>\n",
       "      <th>k1</th>\n",
       "      <th>k2</th>\n",
       "      <th>v1</th>\n",
       "    </tr>\n",
       "  </thead>\n",
       "  <tbody>\n",
       "    <tr>\n",
       "      <th>0</th>\n",
       "      <td>one</td>\n",
       "      <td>1</td>\n",
       "      <td>0</td>\n",
       "    </tr>\n",
       "    <tr>\n",
       "      <th>1</th>\n",
       "      <td>two</td>\n",
       "      <td>1</td>\n",
       "      <td>1</td>\n",
       "    </tr>\n",
       "    <tr>\n",
       "      <th>2</th>\n",
       "      <td>one</td>\n",
       "      <td>2</td>\n",
       "      <td>2</td>\n",
       "    </tr>\n",
       "    <tr>\n",
       "      <th>3</th>\n",
       "      <td>two</td>\n",
       "      <td>3</td>\n",
       "      <td>3</td>\n",
       "    </tr>\n",
       "    <tr>\n",
       "      <th>4</th>\n",
       "      <td>one</td>\n",
       "      <td>3</td>\n",
       "      <td>4</td>\n",
       "    </tr>\n",
       "    <tr>\n",
       "      <th>5</th>\n",
       "      <td>two</td>\n",
       "      <td>4</td>\n",
       "      <td>5</td>\n",
       "    </tr>\n",
       "    <tr>\n",
       "      <th>6</th>\n",
       "      <td>two</td>\n",
       "      <td>4</td>\n",
       "      <td>6</td>\n",
       "    </tr>\n",
       "  </tbody>\n",
       "</table>\n",
       "</div>"
      ],
      "text/plain": [
       "    k1  k2  v1\n",
       "0  one   1   0\n",
       "1  two   1   1\n",
       "2  one   2   2\n",
       "3  two   3   3\n",
       "4  one   3   4\n",
       "5  two   4   5\n",
       "6  two   4   6"
      ]
     },
     "execution_count": 7,
     "metadata": {},
     "output_type": "execute_result"
    }
   ],
   "source": [
    "data"
   ]
  },
  {
   "cell_type": "code",
   "execution_count": 8,
   "id": "696e7b45",
   "metadata": {
    "ExecuteTime": {
     "end_time": "2023-04-22T07:05:33.015965Z",
     "start_time": "2023-04-22T07:05:33.005969Z"
    }
   },
   "outputs": [
    {
     "data": {
      "text/html": [
       "<div>\n",
       "<style scoped>\n",
       "    .dataframe tbody tr th:only-of-type {\n",
       "        vertical-align: middle;\n",
       "    }\n",
       "\n",
       "    .dataframe tbody tr th {\n",
       "        vertical-align: top;\n",
       "    }\n",
       "\n",
       "    .dataframe thead th {\n",
       "        text-align: right;\n",
       "    }\n",
       "</style>\n",
       "<table border=\"1\" class=\"dataframe\">\n",
       "  <thead>\n",
       "    <tr style=\"text-align: right;\">\n",
       "      <th></th>\n",
       "      <th>k1</th>\n",
       "      <th>k2</th>\n",
       "      <th>v1</th>\n",
       "    </tr>\n",
       "  </thead>\n",
       "  <tbody>\n",
       "    <tr>\n",
       "      <th>0</th>\n",
       "      <td>one</td>\n",
       "      <td>1</td>\n",
       "      <td>0</td>\n",
       "    </tr>\n",
       "    <tr>\n",
       "      <th>1</th>\n",
       "      <td>two</td>\n",
       "      <td>1</td>\n",
       "      <td>1</td>\n",
       "    </tr>\n",
       "  </tbody>\n",
       "</table>\n",
       "</div>"
      ],
      "text/plain": [
       "    k1  k2  v1\n",
       "0  one   1   0\n",
       "1  two   1   1"
      ]
     },
     "execution_count": 8,
     "metadata": {},
     "output_type": "execute_result"
    }
   ],
   "source": [
    "data.drop_duplicates(['k1'])"
   ]
  },
  {
   "cell_type": "markdown",
   "id": "a6c35b25",
   "metadata": {},
   "source": [
    "duplicated和drop_duplicates默认保留的是第一个出现的值组合。传入keep='last'则保留最后一个："
   ]
  },
  {
   "cell_type": "code",
   "execution_count": 9,
   "id": "e2486a2f",
   "metadata": {
    "ExecuteTime": {
     "end_time": "2023-04-22T07:05:48.922881Z",
     "start_time": "2023-04-22T07:05:48.912877Z"
    }
   },
   "outputs": [
    {
     "data": {
      "text/html": [
       "<div>\n",
       "<style scoped>\n",
       "    .dataframe tbody tr th:only-of-type {\n",
       "        vertical-align: middle;\n",
       "    }\n",
       "\n",
       "    .dataframe tbody tr th {\n",
       "        vertical-align: top;\n",
       "    }\n",
       "\n",
       "    .dataframe thead th {\n",
       "        text-align: right;\n",
       "    }\n",
       "</style>\n",
       "<table border=\"1\" class=\"dataframe\">\n",
       "  <thead>\n",
       "    <tr style=\"text-align: right;\">\n",
       "      <th></th>\n",
       "      <th>k1</th>\n",
       "      <th>k2</th>\n",
       "      <th>v1</th>\n",
       "    </tr>\n",
       "  </thead>\n",
       "  <tbody>\n",
       "    <tr>\n",
       "      <th>0</th>\n",
       "      <td>one</td>\n",
       "      <td>1</td>\n",
       "      <td>0</td>\n",
       "    </tr>\n",
       "    <tr>\n",
       "      <th>1</th>\n",
       "      <td>two</td>\n",
       "      <td>1</td>\n",
       "      <td>1</td>\n",
       "    </tr>\n",
       "    <tr>\n",
       "      <th>2</th>\n",
       "      <td>one</td>\n",
       "      <td>2</td>\n",
       "      <td>2</td>\n",
       "    </tr>\n",
       "    <tr>\n",
       "      <th>3</th>\n",
       "      <td>two</td>\n",
       "      <td>3</td>\n",
       "      <td>3</td>\n",
       "    </tr>\n",
       "    <tr>\n",
       "      <th>4</th>\n",
       "      <td>one</td>\n",
       "      <td>3</td>\n",
       "      <td>4</td>\n",
       "    </tr>\n",
       "    <tr>\n",
       "      <th>6</th>\n",
       "      <td>two</td>\n",
       "      <td>4</td>\n",
       "      <td>6</td>\n",
       "    </tr>\n",
       "  </tbody>\n",
       "</table>\n",
       "</div>"
      ],
      "text/plain": [
       "    k1  k2  v1\n",
       "0  one   1   0\n",
       "1  two   1   1\n",
       "2  one   2   2\n",
       "3  two   3   3\n",
       "4  one   3   4\n",
       "6  two   4   6"
      ]
     },
     "execution_count": 9,
     "metadata": {},
     "output_type": "execute_result"
    }
   ],
   "source": [
    "data.drop_duplicates(['k1', 'k2'], keep='last')"
   ]
  },
  {
   "cell_type": "markdown",
   "id": "d7ebaf02",
   "metadata": {},
   "source": [
    "### 7.2.2 利用函数或映射进行数据转换"
   ]
  },
  {
   "cell_type": "code",
   "execution_count": 10,
   "id": "19a6ae1a",
   "metadata": {
    "ExecuteTime": {
     "end_time": "2023-04-22T07:07:24.529477Z",
     "start_time": "2023-04-22T07:07:24.509446Z"
    }
   },
   "outputs": [],
   "source": [
    "data = pd.DataFrame({'food': ['bacon', 'pulled pork', 'bacon',\n",
    "   ....:                               'Pastrami', 'corned beef', 'Bacon',\n",
    "   ....:                               'pastrami', 'honey ham', 'nova lox'],\n",
    "   ....:                      'ounces': [4, 3, 12, 6, 7.5, 8, 3, 5, 6]})"
   ]
  },
  {
   "cell_type": "code",
   "execution_count": 11,
   "id": "362fc69f",
   "metadata": {
    "ExecuteTime": {
     "end_time": "2023-04-22T07:07:30.646191Z",
     "start_time": "2023-04-22T07:07:30.625638Z"
    }
   },
   "outputs": [
    {
     "data": {
      "text/html": [
       "<div>\n",
       "<style scoped>\n",
       "    .dataframe tbody tr th:only-of-type {\n",
       "        vertical-align: middle;\n",
       "    }\n",
       "\n",
       "    .dataframe tbody tr th {\n",
       "        vertical-align: top;\n",
       "    }\n",
       "\n",
       "    .dataframe thead th {\n",
       "        text-align: right;\n",
       "    }\n",
       "</style>\n",
       "<table border=\"1\" class=\"dataframe\">\n",
       "  <thead>\n",
       "    <tr style=\"text-align: right;\">\n",
       "      <th></th>\n",
       "      <th>food</th>\n",
       "      <th>ounces</th>\n",
       "    </tr>\n",
       "  </thead>\n",
       "  <tbody>\n",
       "    <tr>\n",
       "      <th>0</th>\n",
       "      <td>bacon</td>\n",
       "      <td>4.0</td>\n",
       "    </tr>\n",
       "    <tr>\n",
       "      <th>1</th>\n",
       "      <td>pulled pork</td>\n",
       "      <td>3.0</td>\n",
       "    </tr>\n",
       "    <tr>\n",
       "      <th>2</th>\n",
       "      <td>bacon</td>\n",
       "      <td>12.0</td>\n",
       "    </tr>\n",
       "    <tr>\n",
       "      <th>3</th>\n",
       "      <td>Pastrami</td>\n",
       "      <td>6.0</td>\n",
       "    </tr>\n",
       "    <tr>\n",
       "      <th>4</th>\n",
       "      <td>corned beef</td>\n",
       "      <td>7.5</td>\n",
       "    </tr>\n",
       "    <tr>\n",
       "      <th>5</th>\n",
       "      <td>Bacon</td>\n",
       "      <td>8.0</td>\n",
       "    </tr>\n",
       "    <tr>\n",
       "      <th>6</th>\n",
       "      <td>pastrami</td>\n",
       "      <td>3.0</td>\n",
       "    </tr>\n",
       "    <tr>\n",
       "      <th>7</th>\n",
       "      <td>honey ham</td>\n",
       "      <td>5.0</td>\n",
       "    </tr>\n",
       "    <tr>\n",
       "      <th>8</th>\n",
       "      <td>nova lox</td>\n",
       "      <td>6.0</td>\n",
       "    </tr>\n",
       "  </tbody>\n",
       "</table>\n",
       "</div>"
      ],
      "text/plain": [
       "          food  ounces\n",
       "0        bacon     4.0\n",
       "1  pulled pork     3.0\n",
       "2        bacon    12.0\n",
       "3     Pastrami     6.0\n",
       "4  corned beef     7.5\n",
       "5        Bacon     8.0\n",
       "6     pastrami     3.0\n",
       "7    honey ham     5.0\n",
       "8     nova lox     6.0"
      ]
     },
     "execution_count": 11,
     "metadata": {},
     "output_type": "execute_result"
    }
   ],
   "source": [
    "data"
   ]
  },
  {
   "cell_type": "code",
   "execution_count": 12,
   "id": "3409d305",
   "metadata": {
    "ExecuteTime": {
     "end_time": "2023-04-22T07:07:52.455669Z",
     "start_time": "2023-04-22T07:07:52.442574Z"
    }
   },
   "outputs": [],
   "source": [
    "meat_to_animal = {\n",
    "  'bacon': 'pig',\n",
    "  'pulled pork': 'pig',\n",
    "  'pastrami': 'cow',\n",
    "  'corned beef': 'cow',\n",
    "  'honey ham': 'pig',\n",
    "  'nova lox': 'salmon'\n",
    "}"
   ]
  },
  {
   "cell_type": "markdown",
   "id": "1825d6ab",
   "metadata": {},
   "source": [
    "Series的map方法可以接受一个函数或含有映射关系的字典型对象，但是这里有一个小问题，即有些肉类的首字母大写了，而另一些则没有。因此，我们还需要使用Series的str.lower方法，将各个值转换为小写："
   ]
  },
  {
   "cell_type": "code",
   "execution_count": 13,
   "id": "fb9d1f2b",
   "metadata": {
    "ExecuteTime": {
     "end_time": "2023-04-22T07:08:14.647399Z",
     "start_time": "2023-04-22T07:08:14.641425Z"
    }
   },
   "outputs": [
    {
     "data": {
      "text/plain": [
       "0          bacon\n",
       "1    pulled pork\n",
       "2          bacon\n",
       "3       pastrami\n",
       "4    corned beef\n",
       "5          bacon\n",
       "6       pastrami\n",
       "7      honey ham\n",
       "8       nova lox\n",
       "Name: food, dtype: object"
      ]
     },
     "execution_count": 13,
     "metadata": {},
     "output_type": "execute_result"
    }
   ],
   "source": [
    "lowercased = data['food'].str.lower()\n",
    "lowercased"
   ]
  },
  {
   "cell_type": "code",
   "execution_count": 14,
   "id": "03d208e5",
   "metadata": {
    "ExecuteTime": {
     "end_time": "2023-04-22T07:09:02.777413Z",
     "start_time": "2023-04-22T07:09:02.768406Z"
    }
   },
   "outputs": [
    {
     "data": {
      "text/html": [
       "<div>\n",
       "<style scoped>\n",
       "    .dataframe tbody tr th:only-of-type {\n",
       "        vertical-align: middle;\n",
       "    }\n",
       "\n",
       "    .dataframe tbody tr th {\n",
       "        vertical-align: top;\n",
       "    }\n",
       "\n",
       "    .dataframe thead th {\n",
       "        text-align: right;\n",
       "    }\n",
       "</style>\n",
       "<table border=\"1\" class=\"dataframe\">\n",
       "  <thead>\n",
       "    <tr style=\"text-align: right;\">\n",
       "      <th></th>\n",
       "      <th>food</th>\n",
       "      <th>ounces</th>\n",
       "      <th>animal</th>\n",
       "    </tr>\n",
       "  </thead>\n",
       "  <tbody>\n",
       "    <tr>\n",
       "      <th>0</th>\n",
       "      <td>bacon</td>\n",
       "      <td>4.0</td>\n",
       "      <td>pig</td>\n",
       "    </tr>\n",
       "    <tr>\n",
       "      <th>1</th>\n",
       "      <td>pulled pork</td>\n",
       "      <td>3.0</td>\n",
       "      <td>pig</td>\n",
       "    </tr>\n",
       "    <tr>\n",
       "      <th>2</th>\n",
       "      <td>bacon</td>\n",
       "      <td>12.0</td>\n",
       "      <td>pig</td>\n",
       "    </tr>\n",
       "    <tr>\n",
       "      <th>3</th>\n",
       "      <td>Pastrami</td>\n",
       "      <td>6.0</td>\n",
       "      <td>cow</td>\n",
       "    </tr>\n",
       "    <tr>\n",
       "      <th>4</th>\n",
       "      <td>corned beef</td>\n",
       "      <td>7.5</td>\n",
       "      <td>cow</td>\n",
       "    </tr>\n",
       "    <tr>\n",
       "      <th>5</th>\n",
       "      <td>Bacon</td>\n",
       "      <td>8.0</td>\n",
       "      <td>pig</td>\n",
       "    </tr>\n",
       "    <tr>\n",
       "      <th>6</th>\n",
       "      <td>pastrami</td>\n",
       "      <td>3.0</td>\n",
       "      <td>cow</td>\n",
       "    </tr>\n",
       "    <tr>\n",
       "      <th>7</th>\n",
       "      <td>honey ham</td>\n",
       "      <td>5.0</td>\n",
       "      <td>pig</td>\n",
       "    </tr>\n",
       "    <tr>\n",
       "      <th>8</th>\n",
       "      <td>nova lox</td>\n",
       "      <td>6.0</td>\n",
       "      <td>salmon</td>\n",
       "    </tr>\n",
       "  </tbody>\n",
       "</table>\n",
       "</div>"
      ],
      "text/plain": [
       "          food  ounces  animal\n",
       "0        bacon     4.0     pig\n",
       "1  pulled pork     3.0     pig\n",
       "2        bacon    12.0     pig\n",
       "3     Pastrami     6.0     cow\n",
       "4  corned beef     7.5     cow\n",
       "5        Bacon     8.0     pig\n",
       "6     pastrami     3.0     cow\n",
       "7    honey ham     5.0     pig\n",
       "8     nova lox     6.0  salmon"
      ]
     },
     "execution_count": 14,
     "metadata": {},
     "output_type": "execute_result"
    }
   ],
   "source": [
    "data['animal'] = lowercased.map(meat_to_animal)\n",
    "data"
   ]
  },
  {
   "cell_type": "code",
   "execution_count": 15,
   "id": "77b39627",
   "metadata": {
    "ExecuteTime": {
     "end_time": "2023-04-22T07:09:58.461526Z",
     "start_time": "2023-04-22T07:09:58.447491Z"
    }
   },
   "outputs": [
    {
     "data": {
      "text/plain": [
       "0       pig\n",
       "1       pig\n",
       "2       pig\n",
       "3       cow\n",
       "4       cow\n",
       "5       pig\n",
       "6       cow\n",
       "7       pig\n",
       "8    salmon\n",
       "Name: food, dtype: object"
      ]
     },
     "execution_count": 15,
     "metadata": {},
     "output_type": "execute_result"
    }
   ],
   "source": [
    "data['food'].map(lambda x: meat_to_animal[x.lower()])"
   ]
  },
  {
   "cell_type": "markdown",
   "id": "f5fef999",
   "metadata": {},
   "source": [
    "### 7.2.3 替换值"
   ]
  },
  {
   "cell_type": "markdown",
   "id": "517c6487",
   "metadata": {},
   "source": [
    "利用fillna方法填充缺失数据可以看做值替换的一种特殊情况。前面已经看到，map可用于修改对象的数据子集，而replace则提供了一种实现该功能的更简单、更灵活的方式。我们来看看下面这个Series："
   ]
  },
  {
   "cell_type": "code",
   "execution_count": 16,
   "id": "8c601582",
   "metadata": {
    "ExecuteTime": {
     "end_time": "2023-04-22T07:12:56.288299Z",
     "start_time": "2023-04-22T07:12:56.277277Z"
    }
   },
   "outputs": [
    {
     "data": {
      "text/plain": [
       "0       1.0\n",
       "1    -999.0\n",
       "2       2.0\n",
       "3    -999.0\n",
       "4   -1000.0\n",
       "5       3.0\n",
       "dtype: float64"
      ]
     },
     "execution_count": 16,
     "metadata": {},
     "output_type": "execute_result"
    }
   ],
   "source": [
    "data = pd.Series([1., -999., 2., -999., -1000., 3.])\n",
    "data"
   ]
  },
  {
   "cell_type": "markdown",
   "id": "0cf4ced6",
   "metadata": {},
   "source": [
    "-999这个值可能是一个表示缺失数据的标记值。要将其替换为pandas能够理解的NA值，我们可以利用replace来产生一个新的Series（除非传入inplace=True）："
   ]
  },
  {
   "cell_type": "code",
   "execution_count": 17,
   "id": "50993c75",
   "metadata": {
    "ExecuteTime": {
     "end_time": "2023-04-22T07:13:07.819298Z",
     "start_time": "2023-04-22T07:13:07.800757Z"
    }
   },
   "outputs": [
    {
     "data": {
      "text/plain": [
       "0       1.0\n",
       "1       NaN\n",
       "2       2.0\n",
       "3       NaN\n",
       "4   -1000.0\n",
       "5       3.0\n",
       "dtype: float64"
      ]
     },
     "execution_count": 17,
     "metadata": {},
     "output_type": "execute_result"
    }
   ],
   "source": [
    "data.replace(-999, np.nan)"
   ]
  },
  {
   "cell_type": "code",
   "execution_count": 19,
   "id": "5aeecc3f",
   "metadata": {
    "ExecuteTime": {
     "end_time": "2023-04-22T07:13:27.692762Z",
     "start_time": "2023-04-22T07:13:27.680770Z"
    }
   },
   "outputs": [
    {
     "data": {
      "text/plain": [
       "0    1.0\n",
       "1    NaN\n",
       "2    2.0\n",
       "3    NaN\n",
       "4    NaN\n",
       "5    3.0\n",
       "dtype: float64"
      ]
     },
     "execution_count": 19,
     "metadata": {},
     "output_type": "execute_result"
    }
   ],
   "source": [
    "# 如果你希望一次性替换多个值，可以传入一个由待替换值组成的列表以及一个替换值：\n",
    "data.replace([-999, -1000], np.nan)"
   ]
  },
  {
   "cell_type": "code",
   "execution_count": 20,
   "id": "ee2b9d04",
   "metadata": {
    "ExecuteTime": {
     "end_time": "2023-04-22T07:14:02.714197Z",
     "start_time": "2023-04-22T07:14:02.695181Z"
    }
   },
   "outputs": [
    {
     "data": {
      "text/plain": [
       "0    1.0\n",
       "1    NaN\n",
       "2    2.0\n",
       "3    NaN\n",
       "4    0.0\n",
       "5    3.0\n",
       "dtype: float64"
      ]
     },
     "execution_count": 20,
     "metadata": {},
     "output_type": "execute_result"
    }
   ],
   "source": [
    "# 要让每个值有不同的替换值，可以传递一个替换列表：\n",
    "data.replace([-999, -1000], [np.nan, 0])"
   ]
  },
  {
   "cell_type": "code",
   "execution_count": 21,
   "id": "997d82a7",
   "metadata": {
    "ExecuteTime": {
     "end_time": "2023-04-22T07:14:18.400594Z",
     "start_time": "2023-04-22T07:14:18.381600Z"
    }
   },
   "outputs": [
    {
     "data": {
      "text/plain": [
       "0    1.0\n",
       "1    NaN\n",
       "2    2.0\n",
       "3    NaN\n",
       "4    0.0\n",
       "5    3.0\n",
       "dtype: float64"
      ]
     },
     "execution_count": 21,
     "metadata": {},
     "output_type": "execute_result"
    }
   ],
   "source": [
    "# 传入的参数也可以是字典：\n",
    "data.replace({-999: np.nan, -1000: 0})"
   ]
  },
  {
   "cell_type": "markdown",
   "id": "011da0ba",
   "metadata": {},
   "source": [
    "### 7.2.4 重命名轴索引"
   ]
  },
  {
   "cell_type": "markdown",
   "id": "9b483626",
   "metadata": {},
   "source": [
    "跟Series中的值一样，轴标签也可以通过函数或映射进行转换，从而得到一个新的不同标签的对象。轴还可以被就地修改，而无需新建一个数据结构。接下来看看下面这个简单的例子："
   ]
  },
  {
   "cell_type": "code",
   "execution_count": 22,
   "id": "dfefa100",
   "metadata": {
    "ExecuteTime": {
     "end_time": "2023-04-22T07:16:12.912525Z",
     "start_time": "2023-04-22T07:16:12.894845Z"
    }
   },
   "outputs": [],
   "source": [
    "data = pd.DataFrame(np.arange(12).reshape((3, 4)),\n",
    "   ....:                     index=['Ohio', 'Colorado', 'New York'],\n",
    "   ....:                     columns=['one', 'two', 'three', 'four'])"
   ]
  },
  {
   "cell_type": "code",
   "execution_count": 23,
   "id": "64d9cb0b",
   "metadata": {
    "ExecuteTime": {
     "end_time": "2023-04-22T07:16:20.372017Z",
     "start_time": "2023-04-22T07:16:20.350478Z"
    }
   },
   "outputs": [
    {
     "data": {
      "text/html": [
       "<div>\n",
       "<style scoped>\n",
       "    .dataframe tbody tr th:only-of-type {\n",
       "        vertical-align: middle;\n",
       "    }\n",
       "\n",
       "    .dataframe tbody tr th {\n",
       "        vertical-align: top;\n",
       "    }\n",
       "\n",
       "    .dataframe thead th {\n",
       "        text-align: right;\n",
       "    }\n",
       "</style>\n",
       "<table border=\"1\" class=\"dataframe\">\n",
       "  <thead>\n",
       "    <tr style=\"text-align: right;\">\n",
       "      <th></th>\n",
       "      <th>one</th>\n",
       "      <th>two</th>\n",
       "      <th>three</th>\n",
       "      <th>four</th>\n",
       "    </tr>\n",
       "  </thead>\n",
       "  <tbody>\n",
       "    <tr>\n",
       "      <th>Ohio</th>\n",
       "      <td>0</td>\n",
       "      <td>1</td>\n",
       "      <td>2</td>\n",
       "      <td>3</td>\n",
       "    </tr>\n",
       "    <tr>\n",
       "      <th>Colorado</th>\n",
       "      <td>4</td>\n",
       "      <td>5</td>\n",
       "      <td>6</td>\n",
       "      <td>7</td>\n",
       "    </tr>\n",
       "    <tr>\n",
       "      <th>New York</th>\n",
       "      <td>8</td>\n",
       "      <td>9</td>\n",
       "      <td>10</td>\n",
       "      <td>11</td>\n",
       "    </tr>\n",
       "  </tbody>\n",
       "</table>\n",
       "</div>"
      ],
      "text/plain": [
       "          one  two  three  four\n",
       "Ohio        0    1      2     3\n",
       "Colorado    4    5      6     7\n",
       "New York    8    9     10    11"
      ]
     },
     "execution_count": 23,
     "metadata": {},
     "output_type": "execute_result"
    }
   ],
   "source": [
    "data"
   ]
  },
  {
   "cell_type": "code",
   "execution_count": 26,
   "id": "62f0b887",
   "metadata": {
    "ExecuteTime": {
     "end_time": "2023-04-22T07:17:27.361626Z",
     "start_time": "2023-04-22T07:17:27.342294Z"
    }
   },
   "outputs": [
    {
     "data": {
      "text/plain": [
       "Index(['OHIO', 'COLO', 'NEW '], dtype='object')"
      ]
     },
     "execution_count": 26,
     "metadata": {},
     "output_type": "execute_result"
    }
   ],
   "source": [
    "transform = lambda x: x[:4].upper()\n",
    "data.index.map(transform)"
   ]
  },
  {
   "cell_type": "code",
   "execution_count": 27,
   "id": "60a9f961",
   "metadata": {
    "ExecuteTime": {
     "end_time": "2023-04-22T07:18:40.632287Z",
     "start_time": "2023-04-22T07:18:40.616294Z"
    }
   },
   "outputs": [
    {
     "data": {
      "text/html": [
       "<div>\n",
       "<style scoped>\n",
       "    .dataframe tbody tr th:only-of-type {\n",
       "        vertical-align: middle;\n",
       "    }\n",
       "\n",
       "    .dataframe tbody tr th {\n",
       "        vertical-align: top;\n",
       "    }\n",
       "\n",
       "    .dataframe thead th {\n",
       "        text-align: right;\n",
       "    }\n",
       "</style>\n",
       "<table border=\"1\" class=\"dataframe\">\n",
       "  <thead>\n",
       "    <tr style=\"text-align: right;\">\n",
       "      <th></th>\n",
       "      <th>one</th>\n",
       "      <th>two</th>\n",
       "      <th>three</th>\n",
       "      <th>four</th>\n",
       "    </tr>\n",
       "  </thead>\n",
       "  <tbody>\n",
       "    <tr>\n",
       "      <th>OHIO</th>\n",
       "      <td>0</td>\n",
       "      <td>1</td>\n",
       "      <td>2</td>\n",
       "      <td>3</td>\n",
       "    </tr>\n",
       "    <tr>\n",
       "      <th>COLO</th>\n",
       "      <td>4</td>\n",
       "      <td>5</td>\n",
       "      <td>6</td>\n",
       "      <td>7</td>\n",
       "    </tr>\n",
       "    <tr>\n",
       "      <th>NEW</th>\n",
       "      <td>8</td>\n",
       "      <td>9</td>\n",
       "      <td>10</td>\n",
       "      <td>11</td>\n",
       "    </tr>\n",
       "  </tbody>\n",
       "</table>\n",
       "</div>"
      ],
      "text/plain": [
       "      one  two  three  four\n",
       "OHIO    0    1      2     3\n",
       "COLO    4    5      6     7\n",
       "NEW     8    9     10    11"
      ]
     },
     "execution_count": 27,
     "metadata": {},
     "output_type": "execute_result"
    }
   ],
   "source": [
    "data.index = data.index.map(transform)\n",
    "data"
   ]
  },
  {
   "cell_type": "markdown",
   "id": "688146f9",
   "metadata": {},
   "source": [
    "如果想要创建数据集的转换版***（而不是修改原始数据）***，比较实用的方法是rename："
   ]
  },
  {
   "cell_type": "code",
   "execution_count": 28,
   "id": "edbdf243",
   "metadata": {
    "ExecuteTime": {
     "end_time": "2023-04-22T07:19:40.569902Z",
     "start_time": "2023-04-22T07:19:40.553907Z"
    }
   },
   "outputs": [
    {
     "data": {
      "text/html": [
       "<div>\n",
       "<style scoped>\n",
       "    .dataframe tbody tr th:only-of-type {\n",
       "        vertical-align: middle;\n",
       "    }\n",
       "\n",
       "    .dataframe tbody tr th {\n",
       "        vertical-align: top;\n",
       "    }\n",
       "\n",
       "    .dataframe thead th {\n",
       "        text-align: right;\n",
       "    }\n",
       "</style>\n",
       "<table border=\"1\" class=\"dataframe\">\n",
       "  <thead>\n",
       "    <tr style=\"text-align: right;\">\n",
       "      <th></th>\n",
       "      <th>ONE</th>\n",
       "      <th>TWO</th>\n",
       "      <th>THREE</th>\n",
       "      <th>FOUR</th>\n",
       "    </tr>\n",
       "  </thead>\n",
       "  <tbody>\n",
       "    <tr>\n",
       "      <th>Ohio</th>\n",
       "      <td>0</td>\n",
       "      <td>1</td>\n",
       "      <td>2</td>\n",
       "      <td>3</td>\n",
       "    </tr>\n",
       "    <tr>\n",
       "      <th>Colo</th>\n",
       "      <td>4</td>\n",
       "      <td>5</td>\n",
       "      <td>6</td>\n",
       "      <td>7</td>\n",
       "    </tr>\n",
       "    <tr>\n",
       "      <th>New</th>\n",
       "      <td>8</td>\n",
       "      <td>9</td>\n",
       "      <td>10</td>\n",
       "      <td>11</td>\n",
       "    </tr>\n",
       "  </tbody>\n",
       "</table>\n",
       "</div>"
      ],
      "text/plain": [
       "      ONE  TWO  THREE  FOUR\n",
       "Ohio    0    1      2     3\n",
       "Colo    4    5      6     7\n",
       "New     8    9     10    11"
      ]
     },
     "execution_count": 28,
     "metadata": {},
     "output_type": "execute_result"
    }
   ],
   "source": [
    "data.rename(index=str.title, columns=str.upper)"
   ]
  },
  {
   "cell_type": "markdown",
   "id": "87fdc4c4",
   "metadata": {},
   "source": [
    "特别说明一下，rename可以结合字典型对象实现对部分轴标签的更新："
   ]
  },
  {
   "cell_type": "code",
   "execution_count": 29,
   "id": "b1632b60",
   "metadata": {
    "ExecuteTime": {
     "end_time": "2023-04-22T07:20:16.746768Z",
     "start_time": "2023-04-22T07:20:16.733248Z"
    }
   },
   "outputs": [
    {
     "data": {
      "text/html": [
       "<div>\n",
       "<style scoped>\n",
       "    .dataframe tbody tr th:only-of-type {\n",
       "        vertical-align: middle;\n",
       "    }\n",
       "\n",
       "    .dataframe tbody tr th {\n",
       "        vertical-align: top;\n",
       "    }\n",
       "\n",
       "    .dataframe thead th {\n",
       "        text-align: right;\n",
       "    }\n",
       "</style>\n",
       "<table border=\"1\" class=\"dataframe\">\n",
       "  <thead>\n",
       "    <tr style=\"text-align: right;\">\n",
       "      <th></th>\n",
       "      <th>one</th>\n",
       "      <th>two</th>\n",
       "      <th>peekaboo</th>\n",
       "      <th>four</th>\n",
       "    </tr>\n",
       "  </thead>\n",
       "  <tbody>\n",
       "    <tr>\n",
       "      <th>INDIANA</th>\n",
       "      <td>0</td>\n",
       "      <td>1</td>\n",
       "      <td>2</td>\n",
       "      <td>3</td>\n",
       "    </tr>\n",
       "    <tr>\n",
       "      <th>COLO</th>\n",
       "      <td>4</td>\n",
       "      <td>5</td>\n",
       "      <td>6</td>\n",
       "      <td>7</td>\n",
       "    </tr>\n",
       "    <tr>\n",
       "      <th>NEW</th>\n",
       "      <td>8</td>\n",
       "      <td>9</td>\n",
       "      <td>10</td>\n",
       "      <td>11</td>\n",
       "    </tr>\n",
       "  </tbody>\n",
       "</table>\n",
       "</div>"
      ],
      "text/plain": [
       "         one  two  peekaboo  four\n",
       "INDIANA    0    1         2     3\n",
       "COLO       4    5         6     7\n",
       "NEW        8    9        10    11"
      ]
     },
     "execution_count": 29,
     "metadata": {},
     "output_type": "execute_result"
    }
   ],
   "source": [
    "data.rename(index={'OHIO': 'INDIANA'},\n",
    "   ....:             columns={'three': 'peekaboo'})"
   ]
  },
  {
   "cell_type": "markdown",
   "id": "51142519",
   "metadata": {},
   "source": [
    "rename可以实现复制DataFrame并对其索引和列标签进行赋值。如果希望就地修改某个数据集，传入inplace=True即可："
   ]
  },
  {
   "cell_type": "code",
   "execution_count": 30,
   "id": "49654bf3",
   "metadata": {
    "ExecuteTime": {
     "end_time": "2023-04-22T07:21:48.921848Z",
     "start_time": "2023-04-22T07:21:48.914319Z"
    }
   },
   "outputs": [],
   "source": [
    "data.rename(index={'OHIO': 'INDIANA'}, inplace=True)"
   ]
  },
  {
   "cell_type": "code",
   "execution_count": 31,
   "id": "924913b6",
   "metadata": {
    "ExecuteTime": {
     "end_time": "2023-04-22T07:21:52.698897Z",
     "start_time": "2023-04-22T07:21:52.677904Z"
    }
   },
   "outputs": [
    {
     "data": {
      "text/html": [
       "<div>\n",
       "<style scoped>\n",
       "    .dataframe tbody tr th:only-of-type {\n",
       "        vertical-align: middle;\n",
       "    }\n",
       "\n",
       "    .dataframe tbody tr th {\n",
       "        vertical-align: top;\n",
       "    }\n",
       "\n",
       "    .dataframe thead th {\n",
       "        text-align: right;\n",
       "    }\n",
       "</style>\n",
       "<table border=\"1\" class=\"dataframe\">\n",
       "  <thead>\n",
       "    <tr style=\"text-align: right;\">\n",
       "      <th></th>\n",
       "      <th>one</th>\n",
       "      <th>two</th>\n",
       "      <th>three</th>\n",
       "      <th>four</th>\n",
       "    </tr>\n",
       "  </thead>\n",
       "  <tbody>\n",
       "    <tr>\n",
       "      <th>INDIANA</th>\n",
       "      <td>0</td>\n",
       "      <td>1</td>\n",
       "      <td>2</td>\n",
       "      <td>3</td>\n",
       "    </tr>\n",
       "    <tr>\n",
       "      <th>COLO</th>\n",
       "      <td>4</td>\n",
       "      <td>5</td>\n",
       "      <td>6</td>\n",
       "      <td>7</td>\n",
       "    </tr>\n",
       "    <tr>\n",
       "      <th>NEW</th>\n",
       "      <td>8</td>\n",
       "      <td>9</td>\n",
       "      <td>10</td>\n",
       "      <td>11</td>\n",
       "    </tr>\n",
       "  </tbody>\n",
       "</table>\n",
       "</div>"
      ],
      "text/plain": [
       "         one  two  three  four\n",
       "INDIANA    0    1      2     3\n",
       "COLO       4    5      6     7\n",
       "NEW        8    9     10    11"
      ]
     },
     "execution_count": 31,
     "metadata": {},
     "output_type": "execute_result"
    }
   ],
   "source": [
    "data"
   ]
  },
  {
   "cell_type": "markdown",
   "id": "29648fa6",
   "metadata": {},
   "source": [
    "### 7.2.5 离散化和面元划分"
   ]
  },
  {
   "cell_type": "markdown",
   "id": "c04c875b",
   "metadata": {},
   "source": [
    "为了便于分析，连续数据常常被离散化或拆分为“面元”（bin）。假设有一组人员数据，而你希望将它们划分为不同的年龄组："
   ]
  },
  {
   "cell_type": "code",
   "execution_count": 32,
   "id": "cb94df15",
   "metadata": {
    "ExecuteTime": {
     "end_time": "2023-04-22T07:22:49.743488Z",
     "start_time": "2023-04-22T07:22:49.738483Z"
    }
   },
   "outputs": [],
   "source": [
    "ages = [20, 22, 25, 27, 21, 23, 37, 31, 61, 45, 41, 32]"
   ]
  },
  {
   "cell_type": "markdown",
   "id": "44803551",
   "metadata": {},
   "source": [
    "接下来将这些数据划分为“18到25”、“26到35”、“35到60”以及“60以上”几个面元。要实现该功能，你需要使用pandas的cut函数："
   ]
  },
  {
   "cell_type": "code",
   "execution_count": 33,
   "id": "8928b777",
   "metadata": {
    "ExecuteTime": {
     "end_time": "2023-04-22T07:23:03.891286Z",
     "start_time": "2023-04-22T07:23:03.873272Z"
    }
   },
   "outputs": [],
   "source": [
    "bins = [18, 25, 35, 60, 100]"
   ]
  },
  {
   "cell_type": "code",
   "execution_count": 34,
   "id": "e2b27329",
   "metadata": {
    "ExecuteTime": {
     "end_time": "2023-04-22T07:23:18.735822Z",
     "start_time": "2023-04-22T07:23:18.723826Z"
    }
   },
   "outputs": [
    {
     "data": {
      "text/plain": [
       "[(18, 25], (18, 25], (18, 25], (25, 35], (18, 25], ..., (25, 35], (60, 100], (35, 60], (35, 60], (25, 35]]\n",
       "Length: 12\n",
       "Categories (4, interval[int64, right]): [(18, 25] < (25, 35] < (35, 60] < (60, 100]]"
      ]
     },
     "execution_count": 34,
     "metadata": {},
     "output_type": "execute_result"
    }
   ],
   "source": [
    "cats = pd.cut(ages, bins)\n",
    "cats"
   ]
  },
  {
   "cell_type": "code",
   "execution_count": 35,
   "id": "fe6884fa",
   "metadata": {
    "ExecuteTime": {
     "end_time": "2023-04-22T07:23:44.474329Z",
     "start_time": "2023-04-22T07:23:44.452305Z"
    }
   },
   "outputs": [
    {
     "data": {
      "text/plain": [
       "(18, 25]     5\n",
       "(25, 35]     3\n",
       "(35, 60]     3\n",
       "(60, 100]    1\n",
       "dtype: int64"
      ]
     },
     "execution_count": 35,
     "metadata": {},
     "output_type": "execute_result"
    }
   ],
   "source": [
    "pd.value_counts(cats)"
   ]
  },
  {
   "cell_type": "markdown",
   "id": "7c0f65d0",
   "metadata": {},
   "source": [
    "跟“区间”的数学符号一样，圆括号表示开端，而方括号则表示闭端（包括）。哪边是闭端可以通过right=False进行修改："
   ]
  },
  {
   "cell_type": "code",
   "execution_count": 36,
   "id": "7942ca38",
   "metadata": {
    "ExecuteTime": {
     "end_time": "2023-04-22T07:24:14.119720Z",
     "start_time": "2023-04-22T07:24:14.098720Z"
    }
   },
   "outputs": [
    {
     "data": {
      "text/plain": [
       "[[18, 26), [18, 26), [18, 26), [26, 36), [18, 26), ..., [26, 36), [61, 100), [36, 61), [36, 61), [26, 36)]\n",
       "Length: 12\n",
       "Categories (4, interval[int64, left]): [[18, 26) < [26, 36) < [36, 61) < [61, 100)]"
      ]
     },
     "execution_count": 36,
     "metadata": {},
     "output_type": "execute_result"
    }
   ],
   "source": [
    "pd.cut(ages, [18, 26, 36, 61, 100], right=False)"
   ]
  },
  {
   "cell_type": "markdown",
   "id": "af810bad",
   "metadata": {},
   "source": [
    "你可 以通过传递一个列表或数组到labels，设置自己的面元名称："
   ]
  },
  {
   "cell_type": "code",
   "execution_count": 37,
   "id": "618df756",
   "metadata": {
    "ExecuteTime": {
     "end_time": "2023-04-22T07:24:43.232124Z",
     "start_time": "2023-04-22T07:24:43.223252Z"
    }
   },
   "outputs": [
    {
     "data": {
      "text/plain": [
       "['Youth', 'Youth', 'Youth', 'YoungAdult', 'Youth', ..., 'YoungAdult', 'Senior', 'MiddleAged', 'MiddleAged', 'YoungAdult']\n",
       "Length: 12\n",
       "Categories (4, object): ['Youth' < 'YoungAdult' < 'MiddleAged' < 'Senior']"
      ]
     },
     "execution_count": 37,
     "metadata": {},
     "output_type": "execute_result"
    }
   ],
   "source": [
    "group_names = ['Youth', 'YoungAdult', 'MiddleAged', 'Senior']\n",
    "pd.cut(ages, bins, labels=group_names)"
   ]
  },
  {
   "cell_type": "markdown",
   "id": "e2c1f28d",
   "metadata": {},
   "source": [
    "如果向cut传入的是面元的数量而不是确切的面元边界，则它会根据数据的最小值和最大值计算等长面元。下面这个例子中，我们将一些均匀分布的数据分成四组："
   ]
  },
  {
   "cell_type": "code",
   "execution_count": 40,
   "id": "f4af760c",
   "metadata": {
    "ExecuteTime": {
     "end_time": "2023-04-22T07:26:42.530512Z",
     "start_time": "2023-04-22T07:26:42.523516Z"
    }
   },
   "outputs": [
    {
     "data": {
      "text/plain": [
       "array([0.25688255, 0.4716525 , 0.51729921, 0.11894263, 0.52035482,\n",
       "       0.51348698, 0.89648809, 0.94697344, 0.34583464, 0.15093985,\n",
       "       0.71843956, 0.52402616, 0.68288043, 0.84228383, 0.34876833,\n",
       "       0.20571213, 0.51236757, 0.34122749, 0.363724  , 0.6401509 ])"
      ]
     },
     "execution_count": 40,
     "metadata": {},
     "output_type": "execute_result"
    }
   ],
   "source": [
    "data = np.random.rand(20)\n",
    "data\n"
   ]
  },
  {
   "cell_type": "code",
   "execution_count": 41,
   "id": "1a9c2274",
   "metadata": {
    "ExecuteTime": {
     "end_time": "2023-04-22T07:26:49.243216Z",
     "start_time": "2023-04-22T07:26:49.236201Z"
    }
   },
   "outputs": [
    {
     "data": {
      "text/plain": [
       "[(0.12, 0.33], (0.33, 0.53], (0.33, 0.53], (0.12, 0.33], (0.33, 0.53], ..., (0.12, 0.33], (0.33, 0.53], (0.33, 0.53], (0.33, 0.53], (0.53, 0.74]]\n",
       "Length: 20\n",
       "Categories (4, interval[float64, right]): [(0.12, 0.33] < (0.33, 0.53] < (0.53, 0.74] < (0.74, 0.95]]"
      ]
     },
     "execution_count": 41,
     "metadata": {},
     "output_type": "execute_result"
    }
   ],
   "source": [
    "pd.cut(data, 4, precision=2)"
   ]
  },
  {
   "cell_type": "markdown",
   "id": "8ed77e74",
   "metadata": {},
   "source": [
    "选项precision=2，限定小数只有两位。\n",
    "\n",
    "qcut是一个非常类似于cut的函数，它可以根据样本分位数对数据进行面元划分。根据数据的分布情况，cut可能无法使各个面元中含有相同数量的数据点。而qcut由于使用的是样本分位数，因此可以得到大小基本相等的面元："
   ]
  },
  {
   "cell_type": "code",
   "execution_count": 42,
   "id": "a85fa6a6",
   "metadata": {
    "ExecuteTime": {
     "end_time": "2023-04-22T07:27:51.179921Z",
     "start_time": "2023-04-22T07:27:51.158904Z"
    }
   },
   "outputs": [
    {
     "data": {
      "text/plain": [
       "[(-0.107, 0.607], (-0.715, -0.107], (-0.107, 0.607], (-0.107, 0.607], (-2.912, -0.715], ..., (0.607, 3.046], (0.607, 3.046], (-0.107, 0.607], (-0.107, 0.607], (0.607, 3.046]]\n",
       "Length: 1000\n",
       "Categories (4, interval[float64, right]): [(-2.912, -0.715] < (-0.715, -0.107] < (-0.107, 0.607] < (0.607, 3.046]]"
      ]
     },
     "execution_count": 42,
     "metadata": {},
     "output_type": "execute_result"
    }
   ],
   "source": [
    "data = np.random.randn(1000)  # Normally distributed\n",
    "cats = pd.qcut(data, 4)  # Cut into quartiles\n",
    "cats"
   ]
  },
  {
   "cell_type": "code",
   "execution_count": 43,
   "id": "09a9e9be",
   "metadata": {
    "ExecuteTime": {
     "end_time": "2023-04-22T07:28:19.410704Z",
     "start_time": "2023-04-22T07:28:19.392649Z"
    }
   },
   "outputs": [
    {
     "data": {
      "text/plain": [
       "(-2.912, -0.715]    250\n",
       "(-0.715, -0.107]    250\n",
       "(-0.107, 0.607]     250\n",
       "(0.607, 3.046]      250\n",
       "dtype: int64"
      ]
     },
     "execution_count": 43,
     "metadata": {},
     "output_type": "execute_result"
    }
   ],
   "source": [
    "pd.value_counts(cats)"
   ]
  },
  {
   "cell_type": "markdown",
   "id": "c7aaad9a",
   "metadata": {},
   "source": [
    "与cut类似，你也可以传递自定义的分位数（0到1之间的数值，包含端点）："
   ]
  },
  {
   "cell_type": "code",
   "execution_count": 44,
   "id": "3ee87d01",
   "metadata": {
    "ExecuteTime": {
     "end_time": "2023-04-22T07:28:39.083882Z",
     "start_time": "2023-04-22T07:28:39.059864Z"
    }
   },
   "outputs": [
    {
     "data": {
      "text/plain": [
       "[(-0.107, 1.288], (-1.367, -0.107], (-0.107, 1.288], (-0.107, 1.288], (-1.367, -0.107], ..., (-0.107, 1.288], (-0.107, 1.288], (-0.107, 1.288], (-0.107, 1.288], (1.288, 3.046]]\n",
       "Length: 1000\n",
       "Categories (4, interval[float64, right]): [(-2.912, -1.367] < (-1.367, -0.107] < (-0.107, 1.288] < (1.288, 3.046]]"
      ]
     },
     "execution_count": 44,
     "metadata": {},
     "output_type": "execute_result"
    }
   ],
   "source": [
    "pd.qcut(data, [0, 0.1, 0.5, 0.9, 1.])"
   ]
  },
  {
   "cell_type": "markdown",
   "id": "b7954ad6",
   "metadata": {
    "ExecuteTime": {
     "end_time": "2023-04-22T07:28:57.807269Z",
     "start_time": "2023-04-22T07:28:57.797272Z"
    }
   },
   "source": [
    "### 7.2.6 检测和过滤异常值"
   ]
  },
  {
   "cell_type": "markdown",
   "id": "75343d72",
   "metadata": {},
   "source": [
    "过滤或变换异常值（outlier）在很大程度上就是运用数组运算。来看一个含有正态分布数据的DataFrame："
   ]
  },
  {
   "cell_type": "code",
   "execution_count": 46,
   "id": "43649f47",
   "metadata": {
    "ExecuteTime": {
     "end_time": "2023-04-22T07:31:30.994523Z",
     "start_time": "2023-04-22T07:31:30.990370Z"
    }
   },
   "outputs": [],
   "source": [
    "data = pd.DataFrame(np.random.randn(1000, 4))"
   ]
  },
  {
   "cell_type": "code",
   "execution_count": 47,
   "id": "78e35baa",
   "metadata": {
    "ExecuteTime": {
     "end_time": "2023-04-22T07:31:38.025120Z",
     "start_time": "2023-04-22T07:31:37.993100Z"
    }
   },
   "outputs": [
    {
     "data": {
      "text/html": [
       "<div>\n",
       "<style scoped>\n",
       "    .dataframe tbody tr th:only-of-type {\n",
       "        vertical-align: middle;\n",
       "    }\n",
       "\n",
       "    .dataframe tbody tr th {\n",
       "        vertical-align: top;\n",
       "    }\n",
       "\n",
       "    .dataframe thead th {\n",
       "        text-align: right;\n",
       "    }\n",
       "</style>\n",
       "<table border=\"1\" class=\"dataframe\">\n",
       "  <thead>\n",
       "    <tr style=\"text-align: right;\">\n",
       "      <th></th>\n",
       "      <th>0</th>\n",
       "      <th>1</th>\n",
       "      <th>2</th>\n",
       "      <th>3</th>\n",
       "    </tr>\n",
       "  </thead>\n",
       "  <tbody>\n",
       "    <tr>\n",
       "      <th>count</th>\n",
       "      <td>1000.000000</td>\n",
       "      <td>1000.000000</td>\n",
       "      <td>1000.000000</td>\n",
       "      <td>1000.000000</td>\n",
       "    </tr>\n",
       "    <tr>\n",
       "      <th>mean</th>\n",
       "      <td>-0.004090</td>\n",
       "      <td>0.035894</td>\n",
       "      <td>0.000785</td>\n",
       "      <td>-0.002119</td>\n",
       "    </tr>\n",
       "    <tr>\n",
       "      <th>std</th>\n",
       "      <td>1.007244</td>\n",
       "      <td>1.019778</td>\n",
       "      <td>1.000044</td>\n",
       "      <td>1.021840</td>\n",
       "    </tr>\n",
       "    <tr>\n",
       "      <th>min</th>\n",
       "      <td>-3.069491</td>\n",
       "      <td>-3.114247</td>\n",
       "      <td>-3.152819</td>\n",
       "      <td>-3.524025</td>\n",
       "    </tr>\n",
       "    <tr>\n",
       "      <th>25%</th>\n",
       "      <td>-0.704406</td>\n",
       "      <td>-0.685075</td>\n",
       "      <td>-0.655408</td>\n",
       "      <td>-0.713735</td>\n",
       "    </tr>\n",
       "    <tr>\n",
       "      <th>50%</th>\n",
       "      <td>0.009401</td>\n",
       "      <td>0.021008</td>\n",
       "      <td>0.034704</td>\n",
       "      <td>0.020697</td>\n",
       "    </tr>\n",
       "    <tr>\n",
       "      <th>75%</th>\n",
       "      <td>0.670180</td>\n",
       "      <td>0.727360</td>\n",
       "      <td>0.627374</td>\n",
       "      <td>0.695978</td>\n",
       "    </tr>\n",
       "    <tr>\n",
       "      <th>max</th>\n",
       "      <td>4.069707</td>\n",
       "      <td>3.449146</td>\n",
       "      <td>4.207876</td>\n",
       "      <td>2.805754</td>\n",
       "    </tr>\n",
       "  </tbody>\n",
       "</table>\n",
       "</div>"
      ],
      "text/plain": [
       "                 0            1            2            3\n",
       "count  1000.000000  1000.000000  1000.000000  1000.000000\n",
       "mean     -0.004090     0.035894     0.000785    -0.002119\n",
       "std       1.007244     1.019778     1.000044     1.021840\n",
       "min      -3.069491    -3.114247    -3.152819    -3.524025\n",
       "25%      -0.704406    -0.685075    -0.655408    -0.713735\n",
       "50%       0.009401     0.021008     0.034704     0.020697\n",
       "75%       0.670180     0.727360     0.627374     0.695978\n",
       "max       4.069707     3.449146     4.207876     2.805754"
      ]
     },
     "execution_count": 47,
     "metadata": {},
     "output_type": "execute_result"
    }
   ],
   "source": [
    "data.describe()"
   ]
  },
  {
   "cell_type": "markdown",
   "id": "f9b1b701",
   "metadata": {},
   "source": [
    "你想要找出某列中绝对值大小超过3的值："
   ]
  },
  {
   "cell_type": "code",
   "execution_count": 48,
   "id": "832f226c",
   "metadata": {
    "ExecuteTime": {
     "end_time": "2023-04-22T07:33:19.188308Z",
     "start_time": "2023-04-22T07:33:19.172288Z"
    }
   },
   "outputs": [
    {
     "data": {
      "text/plain": [
       "836   -3.152819\n",
       "963    4.207876\n",
       "Name: 2, dtype: float64"
      ]
     },
     "execution_count": 48,
     "metadata": {},
     "output_type": "execute_result"
    }
   ],
   "source": [
    "col = data[2]\n",
    "col[np.abs(col) > 3]"
   ]
  },
  {
   "cell_type": "markdown",
   "id": "702520a2",
   "metadata": {},
   "source": [
    "要选出全部含有“超过3或－3的值”的行，你可以在布尔型DataFrame中使用any方法："
   ]
  },
  {
   "cell_type": "code",
   "execution_count": 49,
   "id": "f1a0e71d",
   "metadata": {
    "ExecuteTime": {
     "end_time": "2023-04-22T07:35:27.404098Z",
     "start_time": "2023-04-22T07:35:27.385101Z"
    }
   },
   "outputs": [
    {
     "data": {
      "text/html": [
       "<div>\n",
       "<style scoped>\n",
       "    .dataframe tbody tr th:only-of-type {\n",
       "        vertical-align: middle;\n",
       "    }\n",
       "\n",
       "    .dataframe tbody tr th {\n",
       "        vertical-align: top;\n",
       "    }\n",
       "\n",
       "    .dataframe thead th {\n",
       "        text-align: right;\n",
       "    }\n",
       "</style>\n",
       "<table border=\"1\" class=\"dataframe\">\n",
       "  <thead>\n",
       "    <tr style=\"text-align: right;\">\n",
       "      <th></th>\n",
       "      <th>0</th>\n",
       "      <th>1</th>\n",
       "      <th>2</th>\n",
       "      <th>3</th>\n",
       "    </tr>\n",
       "  </thead>\n",
       "  <tbody>\n",
       "    <tr>\n",
       "      <th>229</th>\n",
       "      <td>1.144239</td>\n",
       "      <td>-0.328635</td>\n",
       "      <td>-0.405821</td>\n",
       "      <td>-3.524025</td>\n",
       "    </tr>\n",
       "    <tr>\n",
       "      <th>331</th>\n",
       "      <td>-0.718811</td>\n",
       "      <td>-3.114247</td>\n",
       "      <td>0.335032</td>\n",
       "      <td>1.148574</td>\n",
       "    </tr>\n",
       "    <tr>\n",
       "      <th>373</th>\n",
       "      <td>0.934425</td>\n",
       "      <td>-3.023889</td>\n",
       "      <td>-1.780911</td>\n",
       "      <td>-0.919394</td>\n",
       "    </tr>\n",
       "    <tr>\n",
       "      <th>419</th>\n",
       "      <td>-3.069491</td>\n",
       "      <td>-0.019560</td>\n",
       "      <td>0.120776</td>\n",
       "      <td>-0.102424</td>\n",
       "    </tr>\n",
       "    <tr>\n",
       "      <th>485</th>\n",
       "      <td>4.069707</td>\n",
       "      <td>-1.229286</td>\n",
       "      <td>-0.317770</td>\n",
       "      <td>0.327549</td>\n",
       "    </tr>\n",
       "    <tr>\n",
       "      <th>536</th>\n",
       "      <td>1.027949</td>\n",
       "      <td>3.198171</td>\n",
       "      <td>-0.499968</td>\n",
       "      <td>0.565105</td>\n",
       "    </tr>\n",
       "    <tr>\n",
       "      <th>550</th>\n",
       "      <td>3.368389</td>\n",
       "      <td>-0.575357</td>\n",
       "      <td>-0.829851</td>\n",
       "      <td>1.217434</td>\n",
       "    </tr>\n",
       "    <tr>\n",
       "      <th>653</th>\n",
       "      <td>-0.111977</td>\n",
       "      <td>-0.376556</td>\n",
       "      <td>-1.495490</td>\n",
       "      <td>-3.318463</td>\n",
       "    </tr>\n",
       "    <tr>\n",
       "      <th>704</th>\n",
       "      <td>-0.018148</td>\n",
       "      <td>-0.759907</td>\n",
       "      <td>-0.895267</td>\n",
       "      <td>-3.340287</td>\n",
       "    </tr>\n",
       "    <tr>\n",
       "      <th>836</th>\n",
       "      <td>-0.890426</td>\n",
       "      <td>-0.563775</td>\n",
       "      <td>-3.152819</td>\n",
       "      <td>0.746722</td>\n",
       "    </tr>\n",
       "    <tr>\n",
       "      <th>859</th>\n",
       "      <td>-0.389073</td>\n",
       "      <td>3.449146</td>\n",
       "      <td>-0.281438</td>\n",
       "      <td>-0.096242</td>\n",
       "    </tr>\n",
       "    <tr>\n",
       "      <th>963</th>\n",
       "      <td>0.048786</td>\n",
       "      <td>0.012027</td>\n",
       "      <td>4.207876</td>\n",
       "      <td>0.312557</td>\n",
       "    </tr>\n",
       "  </tbody>\n",
       "</table>\n",
       "</div>"
      ],
      "text/plain": [
       "            0         1         2         3\n",
       "229  1.144239 -0.328635 -0.405821 -3.524025\n",
       "331 -0.718811 -3.114247  0.335032  1.148574\n",
       "373  0.934425 -3.023889 -1.780911 -0.919394\n",
       "419 -3.069491 -0.019560  0.120776 -0.102424\n",
       "485  4.069707 -1.229286 -0.317770  0.327549\n",
       "536  1.027949  3.198171 -0.499968  0.565105\n",
       "550  3.368389 -0.575357 -0.829851  1.217434\n",
       "653 -0.111977 -0.376556 -1.495490 -3.318463\n",
       "704 -0.018148 -0.759907 -0.895267 -3.340287\n",
       "836 -0.890426 -0.563775 -3.152819  0.746722\n",
       "859 -0.389073  3.449146 -0.281438 -0.096242\n",
       "963  0.048786  0.012027  4.207876  0.312557"
      ]
     },
     "execution_count": 49,
     "metadata": {},
     "output_type": "execute_result"
    }
   ],
   "source": [
    "data[(np.abs(data) > 3).any(1)]"
   ]
  },
  {
   "cell_type": "markdown",
   "id": "30e0a95c",
   "metadata": {},
   "source": [
    "根据这些条件，就可以对值进行设置。下面的代码可以将值限制在区间－3到3以内："
   ]
  },
  {
   "cell_type": "code",
   "execution_count": 58,
   "id": "47359325",
   "metadata": {
    "ExecuteTime": {
     "end_time": "2023-04-22T07:45:39.397880Z",
     "start_time": "2023-04-22T07:45:39.388881Z"
    }
   },
   "outputs": [],
   "source": [
    "data = pd.DataFrame(np.random.randn(1000, 4))"
   ]
  },
  {
   "cell_type": "code",
   "execution_count": 62,
   "id": "25afa3b0",
   "metadata": {
    "ExecuteTime": {
     "end_time": "2023-04-22T07:46:41.084585Z",
     "start_time": "2023-04-22T07:46:41.072586Z"
    }
   },
   "outputs": [
    {
     "data": {
      "text/html": [
       "<div>\n",
       "<style scoped>\n",
       "    .dataframe tbody tr th:only-of-type {\n",
       "        vertical-align: middle;\n",
       "    }\n",
       "\n",
       "    .dataframe tbody tr th {\n",
       "        vertical-align: top;\n",
       "    }\n",
       "\n",
       "    .dataframe thead th {\n",
       "        text-align: right;\n",
       "    }\n",
       "</style>\n",
       "<table border=\"1\" class=\"dataframe\">\n",
       "  <thead>\n",
       "    <tr style=\"text-align: right;\">\n",
       "      <th></th>\n",
       "      <th>0</th>\n",
       "      <th>1</th>\n",
       "      <th>2</th>\n",
       "      <th>3</th>\n",
       "    </tr>\n",
       "  </thead>\n",
       "  <tbody>\n",
       "    <tr>\n",
       "      <th>0</th>\n",
       "      <td>0.650493</td>\n",
       "      <td>0.298055</td>\n",
       "      <td>-1.341146</td>\n",
       "      <td>-0.624484</td>\n",
       "    </tr>\n",
       "    <tr>\n",
       "      <th>1</th>\n",
       "      <td>0.304878</td>\n",
       "      <td>1.049193</td>\n",
       "      <td>-0.556404</td>\n",
       "      <td>0.972396</td>\n",
       "    </tr>\n",
       "    <tr>\n",
       "      <th>2</th>\n",
       "      <td>-0.463942</td>\n",
       "      <td>-0.229094</td>\n",
       "      <td>-0.181510</td>\n",
       "      <td>-1.701437</td>\n",
       "    </tr>\n",
       "    <tr>\n",
       "      <th>3</th>\n",
       "      <td>0.185296</td>\n",
       "      <td>-0.451449</td>\n",
       "      <td>0.026616</td>\n",
       "      <td>-0.040353</td>\n",
       "    </tr>\n",
       "    <tr>\n",
       "      <th>4</th>\n",
       "      <td>0.601656</td>\n",
       "      <td>1.407964</td>\n",
       "      <td>-0.192980</td>\n",
       "      <td>0.065889</td>\n",
       "    </tr>\n",
       "    <tr>\n",
       "      <th>...</th>\n",
       "      <td>...</td>\n",
       "      <td>...</td>\n",
       "      <td>...</td>\n",
       "      <td>...</td>\n",
       "    </tr>\n",
       "    <tr>\n",
       "      <th>995</th>\n",
       "      <td>-0.503278</td>\n",
       "      <td>0.022104</td>\n",
       "      <td>-0.558764</td>\n",
       "      <td>-0.090786</td>\n",
       "    </tr>\n",
       "    <tr>\n",
       "      <th>996</th>\n",
       "      <td>-1.469232</td>\n",
       "      <td>-0.953385</td>\n",
       "      <td>0.314424</td>\n",
       "      <td>0.419615</td>\n",
       "    </tr>\n",
       "    <tr>\n",
       "      <th>997</th>\n",
       "      <td>-0.064619</td>\n",
       "      <td>-0.363983</td>\n",
       "      <td>-1.658340</td>\n",
       "      <td>2.064792</td>\n",
       "    </tr>\n",
       "    <tr>\n",
       "      <th>998</th>\n",
       "      <td>0.939164</td>\n",
       "      <td>0.796900</td>\n",
       "      <td>-0.764058</td>\n",
       "      <td>-1.237882</td>\n",
       "    </tr>\n",
       "    <tr>\n",
       "      <th>999</th>\n",
       "      <td>0.058266</td>\n",
       "      <td>0.748318</td>\n",
       "      <td>0.009655</td>\n",
       "      <td>-0.804471</td>\n",
       "    </tr>\n",
       "  </tbody>\n",
       "</table>\n",
       "<p>1000 rows × 4 columns</p>\n",
       "</div>"
      ],
      "text/plain": [
       "            0         1         2         3\n",
       "0    0.650493  0.298055 -1.341146 -0.624484\n",
       "1    0.304878  1.049193 -0.556404  0.972396\n",
       "2   -0.463942 -0.229094 -0.181510 -1.701437\n",
       "3    0.185296 -0.451449  0.026616 -0.040353\n",
       "4    0.601656  1.407964 -0.192980  0.065889\n",
       "..        ...       ...       ...       ...\n",
       "995 -0.503278  0.022104 -0.558764 -0.090786\n",
       "996 -1.469232 -0.953385  0.314424  0.419615\n",
       "997 -0.064619 -0.363983 -1.658340  2.064792\n",
       "998  0.939164  0.796900 -0.764058 -1.237882\n",
       "999  0.058266  0.748318  0.009655 -0.804471\n",
       "\n",
       "[1000 rows x 4 columns]"
      ]
     },
     "execution_count": 62,
     "metadata": {},
     "output_type": "execute_result"
    }
   ],
   "source": [
    "data"
   ]
  },
  {
   "cell_type": "code",
   "execution_count": 64,
   "id": "49e631fa",
   "metadata": {
    "ExecuteTime": {
     "end_time": "2023-04-22T07:47:56.577993Z",
     "start_time": "2023-04-22T07:47:56.572994Z"
    }
   },
   "outputs": [],
   "source": [
    "data[np.abs(data) > 3] = np.sign(data) * 3"
   ]
  },
  {
   "cell_type": "code",
   "execution_count": 65,
   "id": "10089795",
   "metadata": {
    "ExecuteTime": {
     "end_time": "2023-04-22T07:47:58.918427Z",
     "start_time": "2023-04-22T07:47:58.884404Z"
    }
   },
   "outputs": [
    {
     "data": {
      "text/html": [
       "<div>\n",
       "<style scoped>\n",
       "    .dataframe tbody tr th:only-of-type {\n",
       "        vertical-align: middle;\n",
       "    }\n",
       "\n",
       "    .dataframe tbody tr th {\n",
       "        vertical-align: top;\n",
       "    }\n",
       "\n",
       "    .dataframe thead th {\n",
       "        text-align: right;\n",
       "    }\n",
       "</style>\n",
       "<table border=\"1\" class=\"dataframe\">\n",
       "  <thead>\n",
       "    <tr style=\"text-align: right;\">\n",
       "      <th></th>\n",
       "      <th>0</th>\n",
       "      <th>1</th>\n",
       "      <th>2</th>\n",
       "      <th>3</th>\n",
       "    </tr>\n",
       "  </thead>\n",
       "  <tbody>\n",
       "    <tr>\n",
       "      <th>count</th>\n",
       "      <td>1000.000000</td>\n",
       "      <td>1000.000000</td>\n",
       "      <td>1000.000000</td>\n",
       "      <td>1000.000000</td>\n",
       "    </tr>\n",
       "    <tr>\n",
       "      <th>mean</th>\n",
       "      <td>0.077182</td>\n",
       "      <td>0.001414</td>\n",
       "      <td>-0.031210</td>\n",
       "      <td>-0.017552</td>\n",
       "    </tr>\n",
       "    <tr>\n",
       "      <th>std</th>\n",
       "      <td>0.988110</td>\n",
       "      <td>1.009465</td>\n",
       "      <td>0.979515</td>\n",
       "      <td>1.003797</td>\n",
       "    </tr>\n",
       "    <tr>\n",
       "      <th>min</th>\n",
       "      <td>-3.000000</td>\n",
       "      <td>-3.000000</td>\n",
       "      <td>-3.000000</td>\n",
       "      <td>-2.594911</td>\n",
       "    </tr>\n",
       "    <tr>\n",
       "      <th>25%</th>\n",
       "      <td>-0.562827</td>\n",
       "      <td>-0.673704</td>\n",
       "      <td>-0.685402</td>\n",
       "      <td>-0.720559</td>\n",
       "    </tr>\n",
       "    <tr>\n",
       "      <th>50%</th>\n",
       "      <td>0.057648</td>\n",
       "      <td>-0.008624</td>\n",
       "      <td>-0.048209</td>\n",
       "      <td>0.003451</td>\n",
       "    </tr>\n",
       "    <tr>\n",
       "      <th>75%</th>\n",
       "      <td>0.682330</td>\n",
       "      <td>0.714544</td>\n",
       "      <td>0.637234</td>\n",
       "      <td>0.657759</td>\n",
       "    </tr>\n",
       "    <tr>\n",
       "      <th>max</th>\n",
       "      <td>3.000000</td>\n",
       "      <td>2.916507</td>\n",
       "      <td>2.981836</td>\n",
       "      <td>3.000000</td>\n",
       "    </tr>\n",
       "  </tbody>\n",
       "</table>\n",
       "</div>"
      ],
      "text/plain": [
       "                 0            1            2            3\n",
       "count  1000.000000  1000.000000  1000.000000  1000.000000\n",
       "mean      0.077182     0.001414    -0.031210    -0.017552\n",
       "std       0.988110     1.009465     0.979515     1.003797\n",
       "min      -3.000000    -3.000000    -3.000000    -2.594911\n",
       "25%      -0.562827    -0.673704    -0.685402    -0.720559\n",
       "50%       0.057648    -0.008624    -0.048209     0.003451\n",
       "75%       0.682330     0.714544     0.637234     0.657759\n",
       "max       3.000000     2.916507     2.981836     3.000000"
      ]
     },
     "execution_count": 65,
     "metadata": {},
     "output_type": "execute_result"
    }
   ],
   "source": [
    "data.describe()"
   ]
  },
  {
   "cell_type": "code",
   "execution_count": 56,
   "id": "a4c83ba9",
   "metadata": {
    "ExecuteTime": {
     "end_time": "2023-04-22T07:44:05.181642Z",
     "start_time": "2023-04-22T07:44:05.167121Z"
    }
   },
   "outputs": [
    {
     "data": {
      "text/html": [
       "<div>\n",
       "<style scoped>\n",
       "    .dataframe tbody tr th:only-of-type {\n",
       "        vertical-align: middle;\n",
       "    }\n",
       "\n",
       "    .dataframe tbody tr th {\n",
       "        vertical-align: top;\n",
       "    }\n",
       "\n",
       "    .dataframe thead th {\n",
       "        text-align: right;\n",
       "    }\n",
       "</style>\n",
       "<table border=\"1\" class=\"dataframe\">\n",
       "  <thead>\n",
       "    <tr style=\"text-align: right;\">\n",
       "      <th></th>\n",
       "      <th>0</th>\n",
       "      <th>1</th>\n",
       "      <th>2</th>\n",
       "      <th>3</th>\n",
       "    </tr>\n",
       "  </thead>\n",
       "  <tbody>\n",
       "    <tr>\n",
       "      <th>0</th>\n",
       "      <td>-1.0</td>\n",
       "      <td>1.0</td>\n",
       "      <td>-1.0</td>\n",
       "      <td>1.0</td>\n",
       "    </tr>\n",
       "    <tr>\n",
       "      <th>1</th>\n",
       "      <td>1.0</td>\n",
       "      <td>1.0</td>\n",
       "      <td>-1.0</td>\n",
       "      <td>1.0</td>\n",
       "    </tr>\n",
       "    <tr>\n",
       "      <th>2</th>\n",
       "      <td>-1.0</td>\n",
       "      <td>-1.0</td>\n",
       "      <td>1.0</td>\n",
       "      <td>-1.0</td>\n",
       "    </tr>\n",
       "    <tr>\n",
       "      <th>3</th>\n",
       "      <td>-1.0</td>\n",
       "      <td>1.0</td>\n",
       "      <td>-1.0</td>\n",
       "      <td>1.0</td>\n",
       "    </tr>\n",
       "    <tr>\n",
       "      <th>4</th>\n",
       "      <td>-1.0</td>\n",
       "      <td>1.0</td>\n",
       "      <td>1.0</td>\n",
       "      <td>-1.0</td>\n",
       "    </tr>\n",
       "    <tr>\n",
       "      <th>...</th>\n",
       "      <td>...</td>\n",
       "      <td>...</td>\n",
       "      <td>...</td>\n",
       "      <td>...</td>\n",
       "    </tr>\n",
       "    <tr>\n",
       "      <th>995</th>\n",
       "      <td>-1.0</td>\n",
       "      <td>-1.0</td>\n",
       "      <td>1.0</td>\n",
       "      <td>1.0</td>\n",
       "    </tr>\n",
       "    <tr>\n",
       "      <th>996</th>\n",
       "      <td>-1.0</td>\n",
       "      <td>-1.0</td>\n",
       "      <td>1.0</td>\n",
       "      <td>-1.0</td>\n",
       "    </tr>\n",
       "    <tr>\n",
       "      <th>997</th>\n",
       "      <td>-1.0</td>\n",
       "      <td>1.0</td>\n",
       "      <td>-1.0</td>\n",
       "      <td>-1.0</td>\n",
       "    </tr>\n",
       "    <tr>\n",
       "      <th>998</th>\n",
       "      <td>-1.0</td>\n",
       "      <td>-1.0</td>\n",
       "      <td>-1.0</td>\n",
       "      <td>-1.0</td>\n",
       "    </tr>\n",
       "    <tr>\n",
       "      <th>999</th>\n",
       "      <td>-1.0</td>\n",
       "      <td>-1.0</td>\n",
       "      <td>-1.0</td>\n",
       "      <td>1.0</td>\n",
       "    </tr>\n",
       "  </tbody>\n",
       "</table>\n",
       "<p>1000 rows × 4 columns</p>\n",
       "</div>"
      ],
      "text/plain": [
       "       0    1    2    3\n",
       "0   -1.0  1.0 -1.0  1.0\n",
       "1    1.0  1.0 -1.0  1.0\n",
       "2   -1.0 -1.0  1.0 -1.0\n",
       "3   -1.0  1.0 -1.0  1.0\n",
       "4   -1.0  1.0  1.0 -1.0\n",
       "..   ...  ...  ...  ...\n",
       "995 -1.0 -1.0  1.0  1.0\n",
       "996 -1.0 -1.0  1.0 -1.0\n",
       "997 -1.0  1.0 -1.0 -1.0\n",
       "998 -1.0 -1.0 -1.0 -1.0\n",
       "999 -1.0 -1.0 -1.0  1.0\n",
       "\n",
       "[1000 rows x 4 columns]"
      ]
     },
     "execution_count": 56,
     "metadata": {},
     "output_type": "execute_result"
    }
   ],
   "source": [
    "np.sign(data)"
   ]
  },
  {
   "cell_type": "markdown",
   "id": "7400a3ce",
   "metadata": {},
   "source": [
    "### 7.2.7 排列和随机采样"
   ]
  },
  {
   "cell_type": "code",
   "execution_count": 66,
   "id": "050d3923",
   "metadata": {
    "ExecuteTime": {
     "end_time": "2023-04-22T07:50:29.427736Z",
     "start_time": "2023-04-22T07:50:29.409730Z"
    }
   },
   "outputs": [
    {
     "data": {
      "text/html": [
       "<div>\n",
       "<style scoped>\n",
       "    .dataframe tbody tr th:only-of-type {\n",
       "        vertical-align: middle;\n",
       "    }\n",
       "\n",
       "    .dataframe tbody tr th {\n",
       "        vertical-align: top;\n",
       "    }\n",
       "\n",
       "    .dataframe thead th {\n",
       "        text-align: right;\n",
       "    }\n",
       "</style>\n",
       "<table border=\"1\" class=\"dataframe\">\n",
       "  <thead>\n",
       "    <tr style=\"text-align: right;\">\n",
       "      <th></th>\n",
       "      <th>0</th>\n",
       "      <th>1</th>\n",
       "      <th>2</th>\n",
       "      <th>3</th>\n",
       "    </tr>\n",
       "  </thead>\n",
       "  <tbody>\n",
       "    <tr>\n",
       "      <th>0</th>\n",
       "      <td>0</td>\n",
       "      <td>1</td>\n",
       "      <td>2</td>\n",
       "      <td>3</td>\n",
       "    </tr>\n",
       "    <tr>\n",
       "      <th>1</th>\n",
       "      <td>4</td>\n",
       "      <td>5</td>\n",
       "      <td>6</td>\n",
       "      <td>7</td>\n",
       "    </tr>\n",
       "    <tr>\n",
       "      <th>2</th>\n",
       "      <td>8</td>\n",
       "      <td>9</td>\n",
       "      <td>10</td>\n",
       "      <td>11</td>\n",
       "    </tr>\n",
       "    <tr>\n",
       "      <th>3</th>\n",
       "      <td>12</td>\n",
       "      <td>13</td>\n",
       "      <td>14</td>\n",
       "      <td>15</td>\n",
       "    </tr>\n",
       "    <tr>\n",
       "      <th>4</th>\n",
       "      <td>16</td>\n",
       "      <td>17</td>\n",
       "      <td>18</td>\n",
       "      <td>19</td>\n",
       "    </tr>\n",
       "  </tbody>\n",
       "</table>\n",
       "</div>"
      ],
      "text/plain": [
       "    0   1   2   3\n",
       "0   0   1   2   3\n",
       "1   4   5   6   7\n",
       "2   8   9  10  11\n",
       "3  12  13  14  15\n",
       "4  16  17  18  19"
      ]
     },
     "execution_count": 66,
     "metadata": {},
     "output_type": "execute_result"
    }
   ],
   "source": [
    "df = pd.DataFrame(np.arange(5 * 4).reshape((5, 4)))\n",
    "df"
   ]
  },
  {
   "cell_type": "code",
   "execution_count": 70,
   "id": "23f612e8",
   "metadata": {
    "ExecuteTime": {
     "end_time": "2023-04-22T07:51:59.765343Z",
     "start_time": "2023-04-22T07:51:59.746342Z"
    }
   },
   "outputs": [
    {
     "data": {
      "text/plain": [
       "array([4, 1, 3, 2, 0])"
      ]
     },
     "execution_count": 70,
     "metadata": {},
     "output_type": "execute_result"
    }
   ],
   "source": [
    "sampler = np.random.permutation(5)\n",
    "sampler"
   ]
  },
  {
   "cell_type": "code",
   "execution_count": 71,
   "id": "b1de7c90",
   "metadata": {
    "ExecuteTime": {
     "end_time": "2023-04-22T07:52:15.785636Z",
     "start_time": "2023-04-22T07:52:15.774635Z"
    }
   },
   "outputs": [
    {
     "data": {
      "text/html": [
       "<div>\n",
       "<style scoped>\n",
       "    .dataframe tbody tr th:only-of-type {\n",
       "        vertical-align: middle;\n",
       "    }\n",
       "\n",
       "    .dataframe tbody tr th {\n",
       "        vertical-align: top;\n",
       "    }\n",
       "\n",
       "    .dataframe thead th {\n",
       "        text-align: right;\n",
       "    }\n",
       "</style>\n",
       "<table border=\"1\" class=\"dataframe\">\n",
       "  <thead>\n",
       "    <tr style=\"text-align: right;\">\n",
       "      <th></th>\n",
       "      <th>0</th>\n",
       "      <th>1</th>\n",
       "      <th>2</th>\n",
       "      <th>3</th>\n",
       "    </tr>\n",
       "  </thead>\n",
       "  <tbody>\n",
       "    <tr>\n",
       "      <th>4</th>\n",
       "      <td>16</td>\n",
       "      <td>17</td>\n",
       "      <td>18</td>\n",
       "      <td>19</td>\n",
       "    </tr>\n",
       "    <tr>\n",
       "      <th>1</th>\n",
       "      <td>4</td>\n",
       "      <td>5</td>\n",
       "      <td>6</td>\n",
       "      <td>7</td>\n",
       "    </tr>\n",
       "    <tr>\n",
       "      <th>3</th>\n",
       "      <td>12</td>\n",
       "      <td>13</td>\n",
       "      <td>14</td>\n",
       "      <td>15</td>\n",
       "    </tr>\n",
       "    <tr>\n",
       "      <th>2</th>\n",
       "      <td>8</td>\n",
       "      <td>9</td>\n",
       "      <td>10</td>\n",
       "      <td>11</td>\n",
       "    </tr>\n",
       "    <tr>\n",
       "      <th>0</th>\n",
       "      <td>0</td>\n",
       "      <td>1</td>\n",
       "      <td>2</td>\n",
       "      <td>3</td>\n",
       "    </tr>\n",
       "  </tbody>\n",
       "</table>\n",
       "</div>"
      ],
      "text/plain": [
       "    0   1   2   3\n",
       "4  16  17  18  19\n",
       "1   4   5   6   7\n",
       "3  12  13  14  15\n",
       "2   8   9  10  11\n",
       "0   0   1   2   3"
      ]
     },
     "execution_count": 71,
     "metadata": {},
     "output_type": "execute_result"
    }
   ],
   "source": [
    "df.take(sampler)"
   ]
  },
  {
   "cell_type": "code",
   "execution_count": 72,
   "id": "d0f76d55",
   "metadata": {
    "ExecuteTime": {
     "end_time": "2023-04-22T07:52:44.003061Z",
     "start_time": "2023-04-22T07:52:43.987050Z"
    }
   },
   "outputs": [
    {
     "data": {
      "text/html": [
       "<div>\n",
       "<style scoped>\n",
       "    .dataframe tbody tr th:only-of-type {\n",
       "        vertical-align: middle;\n",
       "    }\n",
       "\n",
       "    .dataframe tbody tr th {\n",
       "        vertical-align: top;\n",
       "    }\n",
       "\n",
       "    .dataframe thead th {\n",
       "        text-align: right;\n",
       "    }\n",
       "</style>\n",
       "<table border=\"1\" class=\"dataframe\">\n",
       "  <thead>\n",
       "    <tr style=\"text-align: right;\">\n",
       "      <th></th>\n",
       "      <th>0</th>\n",
       "      <th>1</th>\n",
       "      <th>2</th>\n",
       "      <th>3</th>\n",
       "    </tr>\n",
       "  </thead>\n",
       "  <tbody>\n",
       "    <tr>\n",
       "      <th>1</th>\n",
       "      <td>4</td>\n",
       "      <td>5</td>\n",
       "      <td>6</td>\n",
       "      <td>7</td>\n",
       "    </tr>\n",
       "    <tr>\n",
       "      <th>2</th>\n",
       "      <td>8</td>\n",
       "      <td>9</td>\n",
       "      <td>10</td>\n",
       "      <td>11</td>\n",
       "    </tr>\n",
       "    <tr>\n",
       "      <th>4</th>\n",
       "      <td>16</td>\n",
       "      <td>17</td>\n",
       "      <td>18</td>\n",
       "      <td>19</td>\n",
       "    </tr>\n",
       "  </tbody>\n",
       "</table>\n",
       "</div>"
      ],
      "text/plain": [
       "    0   1   2   3\n",
       "1   4   5   6   7\n",
       "2   8   9  10  11\n",
       "4  16  17  18  19"
      ]
     },
     "execution_count": 72,
     "metadata": {},
     "output_type": "execute_result"
    }
   ],
   "source": [
    "df.sample(n=3)"
   ]
  },
  {
   "cell_type": "code",
   "execution_count": 73,
   "id": "7a55c5ce",
   "metadata": {
    "ExecuteTime": {
     "end_time": "2023-04-22T07:53:18.332455Z",
     "start_time": "2023-04-22T07:53:18.315461Z"
    }
   },
   "outputs": [],
   "source": [
    "choices = pd.Series([5, 7, -1, 6, 4])"
   ]
  },
  {
   "cell_type": "code",
   "execution_count": 74,
   "id": "dd7e87e1",
   "metadata": {
    "ExecuteTime": {
     "end_time": "2023-04-22T07:53:23.844344Z",
     "start_time": "2023-04-22T07:53:23.829349Z"
    }
   },
   "outputs": [],
   "source": [
    "draws = choices.sample(n=10, replace=True)"
   ]
  },
  {
   "cell_type": "markdown",
   "id": "894a2baf",
   "metadata": {
    "ExecuteTime": {
     "end_time": "2023-04-22T07:53:36.315407Z",
     "start_time": "2023-04-22T07:53:36.298368Z"
    }
   },
   "source": [
    "### 7.2.8 计算指标/哑变量"
   ]
  },
  {
   "cell_type": "code",
   "execution_count": 76,
   "id": "4902067c",
   "metadata": {
    "ExecuteTime": {
     "end_time": "2023-04-22T07:54:07.843008Z",
     "start_time": "2023-04-22T07:54:07.823439Z"
    }
   },
   "outputs": [],
   "source": [
    "df = pd.DataFrame({'key': ['b', 'b', 'a', 'c', 'a', 'b'],\n",
    "   .....:                    'data1': range(6)})"
   ]
  },
  {
   "cell_type": "code",
   "execution_count": 77,
   "id": "01fe88bf",
   "metadata": {
    "ExecuteTime": {
     "end_time": "2023-04-22T07:54:09.694000Z",
     "start_time": "2023-04-22T07:54:09.677982Z"
    }
   },
   "outputs": [
    {
     "data": {
      "text/html": [
       "<div>\n",
       "<style scoped>\n",
       "    .dataframe tbody tr th:only-of-type {\n",
       "        vertical-align: middle;\n",
       "    }\n",
       "\n",
       "    .dataframe tbody tr th {\n",
       "        vertical-align: top;\n",
       "    }\n",
       "\n",
       "    .dataframe thead th {\n",
       "        text-align: right;\n",
       "    }\n",
       "</style>\n",
       "<table border=\"1\" class=\"dataframe\">\n",
       "  <thead>\n",
       "    <tr style=\"text-align: right;\">\n",
       "      <th></th>\n",
       "      <th>key</th>\n",
       "      <th>data1</th>\n",
       "    </tr>\n",
       "  </thead>\n",
       "  <tbody>\n",
       "    <tr>\n",
       "      <th>0</th>\n",
       "      <td>b</td>\n",
       "      <td>0</td>\n",
       "    </tr>\n",
       "    <tr>\n",
       "      <th>1</th>\n",
       "      <td>b</td>\n",
       "      <td>1</td>\n",
       "    </tr>\n",
       "    <tr>\n",
       "      <th>2</th>\n",
       "      <td>a</td>\n",
       "      <td>2</td>\n",
       "    </tr>\n",
       "    <tr>\n",
       "      <th>3</th>\n",
       "      <td>c</td>\n",
       "      <td>3</td>\n",
       "    </tr>\n",
       "    <tr>\n",
       "      <th>4</th>\n",
       "      <td>a</td>\n",
       "      <td>4</td>\n",
       "    </tr>\n",
       "    <tr>\n",
       "      <th>5</th>\n",
       "      <td>b</td>\n",
       "      <td>5</td>\n",
       "    </tr>\n",
       "  </tbody>\n",
       "</table>\n",
       "</div>"
      ],
      "text/plain": [
       "  key  data1\n",
       "0   b      0\n",
       "1   b      1\n",
       "2   a      2\n",
       "3   c      3\n",
       "4   a      4\n",
       "5   b      5"
      ]
     },
     "execution_count": 77,
     "metadata": {},
     "output_type": "execute_result"
    }
   ],
   "source": [
    "df"
   ]
  },
  {
   "cell_type": "markdown",
   "id": "cca00378",
   "metadata": {},
   "source": [
    "另一种常用于统计建模或机器学习的转换方式是：将分类变量（categorical variable）转换为“哑变量”或“指标矩阵”。\n",
    "\n",
    "如果DataFrame的某一列中含有k个不同的值，则可以派生出一个k列矩阵或DataFrame（其值全为1和0）。pandas有一个get_dummies函数可以实现该功能（其实自己动手做一个也不难）。使用之前的一个DataFrame例子："
   ]
  },
  {
   "cell_type": "code",
   "execution_count": 80,
   "id": "56d25777",
   "metadata": {
    "ExecuteTime": {
     "end_time": "2023-04-22T07:55:13.142638Z",
     "start_time": "2023-04-22T07:55:13.127640Z"
    },
    "scrolled": true
   },
   "outputs": [
    {
     "data": {
      "text/html": [
       "<div>\n",
       "<style scoped>\n",
       "    .dataframe tbody tr th:only-of-type {\n",
       "        vertical-align: middle;\n",
       "    }\n",
       "\n",
       "    .dataframe tbody tr th {\n",
       "        vertical-align: top;\n",
       "    }\n",
       "\n",
       "    .dataframe thead th {\n",
       "        text-align: right;\n",
       "    }\n",
       "</style>\n",
       "<table border=\"1\" class=\"dataframe\">\n",
       "  <thead>\n",
       "    <tr style=\"text-align: right;\">\n",
       "      <th></th>\n",
       "      <th>a</th>\n",
       "      <th>b</th>\n",
       "      <th>c</th>\n",
       "    </tr>\n",
       "  </thead>\n",
       "  <tbody>\n",
       "    <tr>\n",
       "      <th>0</th>\n",
       "      <td>0</td>\n",
       "      <td>1</td>\n",
       "      <td>0</td>\n",
       "    </tr>\n",
       "    <tr>\n",
       "      <th>1</th>\n",
       "      <td>0</td>\n",
       "      <td>1</td>\n",
       "      <td>0</td>\n",
       "    </tr>\n",
       "    <tr>\n",
       "      <th>2</th>\n",
       "      <td>1</td>\n",
       "      <td>0</td>\n",
       "      <td>0</td>\n",
       "    </tr>\n",
       "    <tr>\n",
       "      <th>3</th>\n",
       "      <td>0</td>\n",
       "      <td>0</td>\n",
       "      <td>1</td>\n",
       "    </tr>\n",
       "    <tr>\n",
       "      <th>4</th>\n",
       "      <td>1</td>\n",
       "      <td>0</td>\n",
       "      <td>0</td>\n",
       "    </tr>\n",
       "    <tr>\n",
       "      <th>5</th>\n",
       "      <td>0</td>\n",
       "      <td>1</td>\n",
       "      <td>0</td>\n",
       "    </tr>\n",
       "  </tbody>\n",
       "</table>\n",
       "</div>"
      ],
      "text/plain": [
       "   a  b  c\n",
       "0  0  1  0\n",
       "1  0  1  0\n",
       "2  1  0  0\n",
       "3  0  0  1\n",
       "4  1  0  0\n",
       "5  0  1  0"
      ]
     },
     "execution_count": 80,
     "metadata": {},
     "output_type": "execute_result"
    }
   ],
   "source": [
    "pd.get_dummies(df['key'])"
   ]
  },
  {
   "cell_type": "markdown",
   "id": "272564fd",
   "metadata": {
    "ExecuteTime": {
     "end_time": "2023-04-22T07:55:03.663778Z",
     "start_time": "2023-04-22T07:55:03.646731Z"
    }
   },
   "source": [
    "有时候，你可能想给指标DataFrame的列加上一个前缀，以便能够跟其他数据进行合并。get_dummies的prefix参数可以实现该功能："
   ]
  },
  {
   "cell_type": "code",
   "execution_count": 81,
   "id": "818d05a8",
   "metadata": {
    "ExecuteTime": {
     "end_time": "2023-04-22T07:55:44.766189Z",
     "start_time": "2023-04-22T07:55:44.755006Z"
    }
   },
   "outputs": [],
   "source": [
    "dummies = pd.get_dummies(df['key'], prefix='key')"
   ]
  },
  {
   "cell_type": "code",
   "execution_count": 82,
   "id": "991d7872",
   "metadata": {
    "ExecuteTime": {
     "end_time": "2023-04-22T07:55:50.369634Z",
     "start_time": "2023-04-22T07:55:50.349622Z"
    }
   },
   "outputs": [
    {
     "data": {
      "text/html": [
       "<div>\n",
       "<style scoped>\n",
       "    .dataframe tbody tr th:only-of-type {\n",
       "        vertical-align: middle;\n",
       "    }\n",
       "\n",
       "    .dataframe tbody tr th {\n",
       "        vertical-align: top;\n",
       "    }\n",
       "\n",
       "    .dataframe thead th {\n",
       "        text-align: right;\n",
       "    }\n",
       "</style>\n",
       "<table border=\"1\" class=\"dataframe\">\n",
       "  <thead>\n",
       "    <tr style=\"text-align: right;\">\n",
       "      <th></th>\n",
       "      <th>key_a</th>\n",
       "      <th>key_b</th>\n",
       "      <th>key_c</th>\n",
       "    </tr>\n",
       "  </thead>\n",
       "  <tbody>\n",
       "    <tr>\n",
       "      <th>0</th>\n",
       "      <td>0</td>\n",
       "      <td>1</td>\n",
       "      <td>0</td>\n",
       "    </tr>\n",
       "    <tr>\n",
       "      <th>1</th>\n",
       "      <td>0</td>\n",
       "      <td>1</td>\n",
       "      <td>0</td>\n",
       "    </tr>\n",
       "    <tr>\n",
       "      <th>2</th>\n",
       "      <td>1</td>\n",
       "      <td>0</td>\n",
       "      <td>0</td>\n",
       "    </tr>\n",
       "    <tr>\n",
       "      <th>3</th>\n",
       "      <td>0</td>\n",
       "      <td>0</td>\n",
       "      <td>1</td>\n",
       "    </tr>\n",
       "    <tr>\n",
       "      <th>4</th>\n",
       "      <td>1</td>\n",
       "      <td>0</td>\n",
       "      <td>0</td>\n",
       "    </tr>\n",
       "    <tr>\n",
       "      <th>5</th>\n",
       "      <td>0</td>\n",
       "      <td>1</td>\n",
       "      <td>0</td>\n",
       "    </tr>\n",
       "  </tbody>\n",
       "</table>\n",
       "</div>"
      ],
      "text/plain": [
       "   key_a  key_b  key_c\n",
       "0      0      1      0\n",
       "1      0      1      0\n",
       "2      1      0      0\n",
       "3      0      0      1\n",
       "4      1      0      0\n",
       "5      0      1      0"
      ]
     },
     "execution_count": 82,
     "metadata": {},
     "output_type": "execute_result"
    }
   ],
   "source": [
    "dummies"
   ]
  },
  {
   "cell_type": "code",
   "execution_count": 83,
   "id": "55419dc3",
   "metadata": {
    "ExecuteTime": {
     "end_time": "2023-04-22T07:56:00.857624Z",
     "start_time": "2023-04-22T07:56:00.842623Z"
    }
   },
   "outputs": [],
   "source": [
    "df_with_dummy = df[['data1']].join(dummies)"
   ]
  },
  {
   "cell_type": "code",
   "execution_count": 84,
   "id": "f185f53c",
   "metadata": {
    "ExecuteTime": {
     "end_time": "2023-04-22T07:56:04.499595Z",
     "start_time": "2023-04-22T07:56:04.477564Z"
    }
   },
   "outputs": [
    {
     "data": {
      "text/html": [
       "<div>\n",
       "<style scoped>\n",
       "    .dataframe tbody tr th:only-of-type {\n",
       "        vertical-align: middle;\n",
       "    }\n",
       "\n",
       "    .dataframe tbody tr th {\n",
       "        vertical-align: top;\n",
       "    }\n",
       "\n",
       "    .dataframe thead th {\n",
       "        text-align: right;\n",
       "    }\n",
       "</style>\n",
       "<table border=\"1\" class=\"dataframe\">\n",
       "  <thead>\n",
       "    <tr style=\"text-align: right;\">\n",
       "      <th></th>\n",
       "      <th>data1</th>\n",
       "      <th>key_a</th>\n",
       "      <th>key_b</th>\n",
       "      <th>key_c</th>\n",
       "    </tr>\n",
       "  </thead>\n",
       "  <tbody>\n",
       "    <tr>\n",
       "      <th>0</th>\n",
       "      <td>0</td>\n",
       "      <td>0</td>\n",
       "      <td>1</td>\n",
       "      <td>0</td>\n",
       "    </tr>\n",
       "    <tr>\n",
       "      <th>1</th>\n",
       "      <td>1</td>\n",
       "      <td>0</td>\n",
       "      <td>1</td>\n",
       "      <td>0</td>\n",
       "    </tr>\n",
       "    <tr>\n",
       "      <th>2</th>\n",
       "      <td>2</td>\n",
       "      <td>1</td>\n",
       "      <td>0</td>\n",
       "      <td>0</td>\n",
       "    </tr>\n",
       "    <tr>\n",
       "      <th>3</th>\n",
       "      <td>3</td>\n",
       "      <td>0</td>\n",
       "      <td>0</td>\n",
       "      <td>1</td>\n",
       "    </tr>\n",
       "    <tr>\n",
       "      <th>4</th>\n",
       "      <td>4</td>\n",
       "      <td>1</td>\n",
       "      <td>0</td>\n",
       "      <td>0</td>\n",
       "    </tr>\n",
       "    <tr>\n",
       "      <th>5</th>\n",
       "      <td>5</td>\n",
       "      <td>0</td>\n",
       "      <td>1</td>\n",
       "      <td>0</td>\n",
       "    </tr>\n",
       "  </tbody>\n",
       "</table>\n",
       "</div>"
      ],
      "text/plain": [
       "   data1  key_a  key_b  key_c\n",
       "0      0      0      1      0\n",
       "1      1      0      1      0\n",
       "2      2      1      0      0\n",
       "3      3      0      0      1\n",
       "4      4      1      0      0\n",
       "5      5      0      1      0"
      ]
     },
     "execution_count": 84,
     "metadata": {},
     "output_type": "execute_result"
    }
   ],
   "source": [
    "df_with_dummy"
   ]
  },
  {
   "cell_type": "markdown",
   "id": "99e91427",
   "metadata": {},
   "source": [
    "## 7.3 字符串操作"
   ]
  },
  {
   "cell_type": "markdown",
   "id": "0cbb84e5",
   "metadata": {},
   "source": [
    "### 7.3.1 字符串对象方法"
   ]
  },
  {
   "cell_type": "code",
   "execution_count": 85,
   "id": "1d991633",
   "metadata": {
    "ExecuteTime": {
     "end_time": "2023-04-22T08:01:52.511407Z",
     "start_time": "2023-04-22T08:01:52.492404Z"
    }
   },
   "outputs": [
    {
     "data": {
      "text/plain": [
       "['a', 'b', 'guido']"
      ]
     },
     "execution_count": 85,
     "metadata": {},
     "output_type": "execute_result"
    }
   ],
   "source": [
    "val = 'a,b,  guido'\n",
    "pieces = [x.strip() for x in val.split(',')]\n",
    "pieces"
   ]
  },
  {
   "cell_type": "code",
   "execution_count": 86,
   "id": "1a301b7a",
   "metadata": {
    "ExecuteTime": {
     "end_time": "2023-04-22T08:02:29.917216Z",
     "start_time": "2023-04-22T08:02:29.898199Z"
    }
   },
   "outputs": [
    {
     "data": {
      "text/plain": [
       "'a::b::guido'"
      ]
     },
     "execution_count": 86,
     "metadata": {},
     "output_type": "execute_result"
    }
   ],
   "source": [
    "'::'.join(pieces)"
   ]
  },
  {
   "cell_type": "code",
   "execution_count": 87,
   "id": "1843c920",
   "metadata": {
    "ExecuteTime": {
     "end_time": "2023-04-22T08:03:09.109731Z",
     "start_time": "2023-04-22T08:03:09.097737Z"
    }
   },
   "outputs": [
    {
     "data": {
      "text/plain": [
       "-1"
      ]
     },
     "execution_count": 87,
     "metadata": {},
     "output_type": "execute_result"
    }
   ],
   "source": [
    "val.find(':')"
   ]
  },
  {
   "cell_type": "code",
   "execution_count": 88,
   "id": "839e6fb4",
   "metadata": {
    "ExecuteTime": {
     "end_time": "2023-04-22T08:03:15.722665Z",
     "start_time": "2023-04-22T08:03:15.712649Z"
    }
   },
   "outputs": [
    {
     "data": {
      "text/plain": [
       "2"
      ]
     },
     "execution_count": 88,
     "metadata": {},
     "output_type": "execute_result"
    }
   ],
   "source": [
    "val.count(',')"
   ]
  },
  {
   "attachments": {
    "image.png": {
     "image/png": "[encoded data removed]"
    }
   },
   "cell_type": "markdown",
   "id": "4b274221",
   "metadata": {},
   "source": [
    "![image.png](attachment:image.png)"
   ]
  },
  {
   "cell_type": "markdown",
   "id": "5407f245",
   "metadata": {
    "ExecuteTime": {
     "end_time": "2023-04-22T08:04:21.554214Z",
     "start_time": "2023-04-22T08:04:21.537665Z"
    }
   },
   "source": [
    "### 7.3.2 正则表达式"
   ]
  },
  {
   "cell_type": "markdown",
   "id": "61a1810e",
   "metadata": {},
   "source": [
    "re模块的函数可以分为三个大类：***模式匹配、替换以及拆分***。"
   ]
  },
  {
   "cell_type": "code",
   "execution_count": 90,
   "id": "3deac9ec",
   "metadata": {
    "ExecuteTime": {
     "end_time": "2023-04-22T08:05:17.758287Z",
     "start_time": "2023-04-22T08:05:17.741291Z"
    }
   },
   "outputs": [
    {
     "data": {
      "text/plain": [
       "['foo', 'bar', 'baz', 'qux']"
      ]
     },
     "execution_count": 90,
     "metadata": {},
     "output_type": "execute_result"
    }
   ],
   "source": [
    "import re\n",
    "text = \"foo    bar\\t baz  \\tqux\"\n",
    "re.split('\\s+', text)"
   ]
  },
  {
   "cell_type": "markdown",
   "id": "9e52148f",
   "metadata": {},
   "source": [
    "如果只希望得到匹配regex的所有模式，则可以使用findall方法："
   ]
  },
  {
   "cell_type": "code",
   "execution_count": 93,
   "id": "afe9aa5c",
   "metadata": {
    "ExecuteTime": {
     "end_time": "2023-04-22T08:06:46.978807Z",
     "start_time": "2023-04-22T08:06:46.967809Z"
    }
   },
   "outputs": [
    {
     "data": {
      "text/plain": [
       "['    ', '\\t ', '  \\t']"
      ]
     },
     "execution_count": 93,
     "metadata": {},
     "output_type": "execute_result"
    }
   ],
   "source": [
    "re.findall('\\s+', text)"
   ]
  },
  {
   "cell_type": "markdown",
   "id": "b98002c0",
   "metadata": {},
   "source": [
    "如果打算对许多字符串应用同一条正则表达式，强烈建议通过re.compile创建regex对象。这样将可以节省大量的CPU时间。"
   ]
  },
  {
   "cell_type": "markdown",
   "id": "3e52f201",
   "metadata": {},
   "source": [
    "match和search跟findall功能类似。findall返回的是字符串中所有的匹配项，而search则只返回第一个匹配项。match更加严格，它只匹配字符串的首部。来看一个小例子，假设我们有一段文本以及一条能够识别大部分电子邮件地址的正则表达式："
   ]
  },
  {
   "cell_type": "code",
   "execution_count": 94,
   "id": "38a5cccf",
   "metadata": {
    "ExecuteTime": {
     "end_time": "2023-04-22T08:14:37.904524Z",
     "start_time": "2023-04-22T08:14:37.886505Z"
    }
   },
   "outputs": [],
   "source": [
    "text = \"\"\"Dave dave@google.com\n",
    "Steve steve@gmail.com\n",
    "Rob rob@gmail.com\n",
    "Ryan ryan@yahoo.com\n",
    "\"\"\"\n",
    "pattern = r'[A-Z0-9._%+-]+@[A-Z0-9.-]+\\.[A-Z]{2,4}'\n",
    "regex = re.compile(pattern, flags=re.IGNORECASE)"
   ]
  },
  {
   "cell_type": "code",
   "execution_count": 95,
   "id": "7d935731",
   "metadata": {
    "ExecuteTime": {
     "end_time": "2023-04-22T08:15:10.856665Z",
     "start_time": "2023-04-22T08:15:10.838931Z"
    }
   },
   "outputs": [
    {
     "data": {
      "text/plain": [
       "['dave@google.com', 'steve@gmail.com', 'rob@gmail.com', 'ryan@yahoo.com']"
      ]
     },
     "execution_count": 95,
     "metadata": {},
     "output_type": "execute_result"
    }
   ],
   "source": [
    "regex.findall(text)"
   ]
  },
  {
   "cell_type": "code",
   "execution_count": 101,
   "id": "c6145265",
   "metadata": {
    "ExecuteTime": {
     "end_time": "2023-04-22T08:18:02.280360Z",
     "start_time": "2023-04-22T08:18:02.261342Z"
    }
   },
   "outputs": [
    {
     "data": {
      "text/plain": [
       "'dave@google.com'"
      ]
     },
     "execution_count": 101,
     "metadata": {},
     "output_type": "execute_result"
    }
   ],
   "source": [
    "m = regex.search(text)\n",
    "m.group()"
   ]
  },
  {
   "cell_type": "code",
   "execution_count": 97,
   "id": "281790bc",
   "metadata": {
    "ExecuteTime": {
     "end_time": "2023-04-22T08:16:17.772306Z",
     "start_time": "2023-04-22T08:16:17.756283Z"
    }
   },
   "outputs": [
    {
     "data": {
      "text/plain": [
       "'dave@google.com'"
      ]
     },
     "execution_count": 97,
     "metadata": {},
     "output_type": "execute_result"
    }
   ],
   "source": [
    "text[m.start():m.end()]"
   ]
  },
  {
   "cell_type": "code",
   "execution_count": 98,
   "id": "2b41dfa4",
   "metadata": {
    "ExecuteTime": {
     "end_time": "2023-04-22T08:16:24.458903Z",
     "start_time": "2023-04-22T08:16:24.439872Z"
    }
   },
   "outputs": [
    {
     "name": "stdout",
     "output_type": "stream",
     "text": [
      "None\n"
     ]
    }
   ],
   "source": [
    "print(regex.match(text))"
   ]
  },
  {
   "cell_type": "markdown",
   "id": "e40cba06",
   "metadata": {},
   "source": [
    "相关的，sub方法可以将匹配到的模式替换为指定字符串，并返回所得到的新字符串："
   ]
  },
  {
   "cell_type": "code",
   "execution_count": 99,
   "id": "729ef521",
   "metadata": {
    "ExecuteTime": {
     "end_time": "2023-04-22T08:16:57.104140Z",
     "start_time": "2023-04-22T08:16:57.099607Z"
    }
   },
   "outputs": [
    {
     "name": "stdout",
     "output_type": "stream",
     "text": [
      "Dave REDACTED\n",
      "Steve REDACTED\n",
      "Rob REDACTED\n",
      "Ryan REDACTED\n",
      "\n"
     ]
    }
   ],
   "source": [
    "print(regex.sub('REDACTED', text))"
   ]
  },
  {
   "cell_type": "markdown",
   "id": "82e72161",
   "metadata": {},
   "source": [
    "假设你不仅想要找出电子邮件地址，还想将各个地址分成3个部分：用户名、域名以及域后缀。要实现此功能，***只需将待分段的模式的各部分用圆括号包起来即可***："
   ]
  },
  {
   "cell_type": "code",
   "execution_count": 100,
   "id": "bf97ad7e",
   "metadata": {
    "ExecuteTime": {
     "end_time": "2023-04-22T08:17:39.134477Z",
     "start_time": "2023-04-22T08:17:39.116961Z"
    }
   },
   "outputs": [],
   "source": [
    "pattern = r'([A-Z0-9._%+-]+)@([A-Z0-9.-]+)\\.([A-Z]{2,4})'\n",
    "regex = re.compile(pattern, flags=re.IGNORECASE)"
   ]
  },
  {
   "cell_type": "code",
   "execution_count": 103,
   "id": "782af4bf",
   "metadata": {
    "ExecuteTime": {
     "end_time": "2023-04-22T08:18:40.053320Z",
     "start_time": "2023-04-22T08:18:40.039311Z"
    }
   },
   "outputs": [],
   "source": [
    "m = regex.match('wesm@bright.net')"
   ]
  },
  {
   "cell_type": "code",
   "execution_count": 104,
   "id": "77505acf",
   "metadata": {
    "ExecuteTime": {
     "end_time": "2023-04-22T08:18:45.185992Z",
     "start_time": "2023-04-22T08:18:45.176991Z"
    }
   },
   "outputs": [
    {
     "data": {
      "text/plain": [
       "('wesm', 'bright', 'net')"
      ]
     },
     "execution_count": 104,
     "metadata": {},
     "output_type": "execute_result"
    }
   ],
   "source": [
    "m.groups()"
   ]
  },
  {
   "cell_type": "markdown",
   "id": "f0122c1e",
   "metadata": {},
   "source": [
    "对于带有分组功能的模式，findall会返回一个元组列表："
   ]
  },
  {
   "cell_type": "code",
   "execution_count": 105,
   "id": "7fa19407",
   "metadata": {
    "ExecuteTime": {
     "end_time": "2023-04-22T08:19:04.053344Z",
     "start_time": "2023-04-22T08:19:04.038330Z"
    }
   },
   "outputs": [
    {
     "data": {
      "text/plain": [
       "[('dave', 'google', 'com'),\n",
       " ('steve', 'gmail', 'com'),\n",
       " ('rob', 'gmail', 'com'),\n",
       " ('ryan', 'yahoo', 'com')]"
      ]
     },
     "execution_count": 105,
     "metadata": {},
     "output_type": "execute_result"
    }
   ],
   "source": [
    "regex.findall(text)"
   ]
  },
  {
   "cell_type": "markdown",
   "id": "8893a4b4",
   "metadata": {},
   "source": [
    "sub还能通过诸如\\1、\\2之类的特殊符号访问各匹配项中的分组。符号\\1对应第一个匹配的组，\\2对应第二个匹配的组，以此类推："
   ]
  },
  {
   "cell_type": "code",
   "execution_count": 130,
   "id": "bafb2b2c",
   "metadata": {
    "ExecuteTime": {
     "end_time": "2023-04-22T09:18:45.648546Z",
     "start_time": "2023-04-22T09:18:45.632551Z"
    }
   },
   "outputs": [
    {
     "name": "stdout",
     "output_type": "stream",
     "text": [
      "Dave Username: dave, Domain: google, Suffix: com\n",
      "Steve Username: steve, Domain: gmail, Suffix: com\n",
      "Rob Username: rob, Domain: gmail, Suffix: com\n",
      "Ryan Username: ryan, Domain: yahoo, Suffix: com\n",
      "\n"
     ]
    }
   ],
   "source": [
    "print(regex.sub(r'Username: \\1, Domain: \\2, Suffix: \\3', text))"
   ]
  },
  {
   "cell_type": "code",
   "execution_count": 107,
   "id": "61d7604a",
   "metadata": {
    "ExecuteTime": {
     "end_time": "2023-04-22T08:25:02.886316Z",
     "start_time": "2023-04-22T08:25:02.878319Z"
    }
   },
   "outputs": [],
   "source": [
    "a = '''asdfsafhellopass:\n",
    "234455\n",
    "worldafdsf\n",
    "'''\n"
   ]
  },
  {
   "cell_type": "code",
   "execution_count": 109,
   "id": "627013b0",
   "metadata": {
    "ExecuteTime": {
     "end_time": "2023-04-22T08:25:09.848742Z",
     "start_time": "2023-04-22T08:25:09.831178Z"
    }
   },
   "outputs": [
    {
     "data": {
      "text/plain": [
       "['pass:\\n234455\\n']"
      ]
     },
     "execution_count": 109,
     "metadata": {},
     "output_type": "execute_result"
    }
   ],
   "source": [
    "c = re.findall('hello(.*?)world',a,re.S)\n",
    "c"
   ]
  },
  {
   "cell_type": "code",
   "execution_count": 115,
   "id": "c2e77076",
   "metadata": {
    "ExecuteTime": {
     "end_time": "2023-04-22T08:31:16.704112Z",
     "start_time": "2023-04-22T08:31:16.699111Z"
    }
   },
   "outputs": [
    {
     "data": {
      "text/plain": [
       "['pass:\\n234455\\n']"
      ]
     },
     "execution_count": 115,
     "metadata": {},
     "output_type": "execute_result"
    }
   ],
   "source": [
    "c = re.findall('hello(.*?)world',a,re.S)\n",
    "c"
   ]
  },
  {
   "cell_type": "markdown",
   "id": "b95c63a0",
   "metadata": {
    "ExecuteTime": {
     "end_time": "2023-04-22T09:20:45.485178Z",
     "start_time": "2023-04-22T09:20:45.471964Z"
    }
   },
   "source": [
    "### 7.3.3 pandas的矢量化字符串函数"
   ]
  },
  {
   "cell_type": "code",
   "execution_count": 132,
   "id": "a3b5fab8",
   "metadata": {
    "ExecuteTime": {
     "end_time": "2023-04-22T09:20:59.169195Z",
     "start_time": "2023-04-22T09:20:59.153209Z"
    }
   },
   "outputs": [],
   "source": [
    "data = {'Dave': 'dave@google.com', 'Steve': 'steve@gmail.com',\n",
    "   .....:         'Rob': 'rob@gmail.com', 'Wes': np.nan}"
   ]
  },
  {
   "cell_type": "code",
   "execution_count": 133,
   "id": "27078b34",
   "metadata": {
    "ExecuteTime": {
     "end_time": "2023-04-22T09:21:06.097076Z",
     "start_time": "2023-04-22T09:21:06.082058Z"
    }
   },
   "outputs": [],
   "source": [
    "data = pd.Series(data)"
   ]
  },
  {
   "cell_type": "code",
   "execution_count": 134,
   "id": "abfe7987",
   "metadata": {
    "ExecuteTime": {
     "end_time": "2023-04-22T09:21:11.806548Z",
     "start_time": "2023-04-22T09:21:11.792013Z"
    }
   },
   "outputs": [
    {
     "data": {
      "text/plain": [
       "Dave     dave@google.com\n",
       "Steve    steve@gmail.com\n",
       "Rob        rob@gmail.com\n",
       "Wes                  NaN\n",
       "dtype: object"
      ]
     },
     "execution_count": 134,
     "metadata": {},
     "output_type": "execute_result"
    }
   ],
   "source": [
    "data"
   ]
  },
  {
   "cell_type": "markdown",
   "id": "13d71870",
   "metadata": {},
   "source": [
    "通过data.map，所有字符串和正则表达式方法都能被应用于（传入lambda表达式或其他函数）各个值，但是如果存在NA（null）就会报错。为了解决这个问题，Series有一些能够跳过NA值的面向数组方法，进行字符串操作。通过Series的str属性即可访问这些方法。例如，我们可以通过str.contains检查各个电子邮件地址是否含有\"gmail\"："
   ]
  },
  {
   "cell_type": "markdown",
   "id": "48fbfc40",
   "metadata": {},
   "source": [
    "## 7.4 总结"
   ]
  },
  {
   "cell_type": "code",
   "execution_count": null,
   "id": "14173f55",
   "metadata": {},
   "outputs": [],
   "source": []
  }
 ],
 "metadata": {
  "kernelspec": {
   "display_name": "Python 3 (ipykernel)",
   "language": "python",
   "name": "python3"
  },
  "language_info": {
   "codemirror_mode": {
    "name": "ipython",
    "version": 3
   },
   "file_extension": ".py",
   "mimetype": "text/x-python",
   "name": "python",
   "nbconvert_exporter": "python",
   "pygments_lexer": "ipython3",
   "version": "3.9.1"
  },
  "toc": {
   "base_numbering": 1,
   "nav_menu": {},
   "number_sections": false,
   "sideBar": true,
   "skip_h1_title": true,
   "title_cell": "Table of Contents",
   "title_sidebar": "Contents",
   "toc_cell": true,
   "toc_position": {},
   "toc_section_display": true,
   "toc_window_display": true
  },
  "varInspector": {
   "cols": {
    "lenName": 16,
    "lenType": 16,
    "lenVar": 40
   },
   "kernels_config": {
    "python": {
     "delete_cmd_postfix": "",
     "delete_cmd_prefix": "del ",
     "library": "var_list.py",
     "varRefreshCmd": "print(var_dic_list())"
    },
    "r": {
     "delete_cmd_postfix": ") ",
     "delete_cmd_prefix": "rm(",
     "library": "var_list.r",
     "varRefreshCmd": "cat(var_dic_list()) "
    }
   },
   "types_to_exclude": [
    "module",
    "function",
    "builtin_function_or_method",
    "instance",
    "_Feature"
   ],
   "window_display": false
  }
 },
 "nbformat": 4,
 "nbformat_minor": 5
}
